{
 "cells": [
  {
   "cell_type": "code",
   "execution_count": 164,
   "metadata": {},
   "outputs": [],
   "source": [
    "%matplotlib inline\n",
    "\n",
    "import pandas as pd\n",
    "import numpy as np\n",
    "import matplotlib.pyplot as plt\n",
    "import seaborn as sns\n",
    "\n",
    "# from pandas_profiling import ProfileReport\n",
    "\n",
    "from scipy import stats\n",
    "from scipy.stats import skew, kurtosis, mode, zscore, norm\n",
    "from scipy.special import boxcox1p\n",
    "\n",
    "# Pipeline and machine learning algorithms\n",
    "from sklearn.preprocessing import RobustScaler, StandardScaler\n",
    "from sklearn.model_selection import KFold, cross_val_score,GridSearchCV\n",
    "from sklearn.metrics import mean_squared_error , make_scorer\n",
    "from sklearn.linear_model import Lasso, Ridge, ElasticNet, RANSACRegressor, SGDRegressor, HuberRegressor, BayesianRidge\n",
    "from sklearn.pipeline import Pipeline\n",
    "from sklearn.linear_model import LinearRegression\n",
    "from sklearn.decomposition import KernelPCA, PCA\n",
    "from sklearn.ensemble import RandomForestRegressor, BaggingRegressor, AdaBoostRegressor, GradientBoostingRegressor, ExtraTreesRegressor\n",
    "from sklearn.svm import SVR\n",
    "from mlxtend.regressor import StackingCVRegressor\n",
    "from sklearn.linear_model import LinearRegression\n",
    "from sklearn.tree import DecisionTreeRegressor\n",
    "from sklearn.neighbors import KNeighborsRegressor\n",
    "\n",
    "from xgboost import XGBRegressor\n",
    "from lightgbm import LGBMRegressor\n",
    "\n",
    "import warnings\n",
    "warnings.filterwarnings('ignore')"
   ]
  },
  {
   "cell_type": "code",
   "execution_count": null,
   "metadata": {},
   "outputs": [],
   "source": [
    "# It is your job to predict the sales price for each house. \n",
    "# For each Id in the test set, you must predict the value of the SalePrice variable. "
   ]
  },
  {
   "cell_type": "markdown",
   "metadata": {},
   "source": [
    "# Load Data and Explore\n",
    "\n",
    "Join Train and Test set so changes are made on both"
   ]
  },
  {
   "cell_type": "code",
   "execution_count": 2,
   "metadata": {},
   "outputs": [
    {
     "name": "stdout",
     "output_type": "stream",
     "text": [
      "(1460, 81)\n",
      "(1459, 80)\n"
     ]
    }
   ],
   "source": [
    "train=pd.read_csv(\"train.csv\")\n",
    "test=pd.read_csv(\"test.csv\")\n",
    "test2=pd.read_csv(\"test.csv\")\n",
    "len_train=train.shape[0]\n",
    "houses=pd.concat([train,test], sort=False)\n",
    "print(train.shape)\n",
    "print(test.shape)"
   ]
  },
  {
   "cell_type": "code",
   "execution_count": 203,
   "metadata": {},
   "outputs": [
    {
     "data": {
      "text/plain": [
       "Index(['MSSubClass', 'LotFrontage', 'LotArea', 'OverallQual', 'OverallCond',\n",
       "       'YearBuilt', 'YearRemodAdd', 'MasVnrArea', 'BsmtFinSF1', 'BsmtFinSF2',\n",
       "       ...\n",
       "       'SaleType_ConLw', 'SaleType_New', 'SaleType_Oth', 'SaleType_WD',\n",
       "       'SaleCondition_Abnorml', 'SaleCondition_AdjLand',\n",
       "       'SaleCondition_Alloca', 'SaleCondition_Family', 'SaleCondition_Normal',\n",
       "       'SaleCondition_Partial'],\n",
       "      dtype='object', length=300)"
      ]
     },
     "execution_count": 203,
     "metadata": {},
     "output_type": "execute_result"
    }
   ],
   "source": [
    "train.columns"
   ]
  },
  {
   "cell_type": "code",
   "execution_count": 22,
   "metadata": {},
   "outputs": [
    {
     "ename": "NameError",
     "evalue": "name 'ProfileReport' is not defined",
     "output_type": "error",
     "traceback": [
      "\u001b[0;31m---------------------------------------------------------------------------\u001b[0m",
      "\u001b[0;31mNameError\u001b[0m                                 Traceback (most recent call last)",
      "\u001b[0;32m<ipython-input-22-a61c2ff4d505>\u001b[0m in \u001b[0;36m<module>\u001b[0;34m\u001b[0m\n\u001b[0;32m----> 1\u001b[0;31m \u001b[0mprofile_report\u001b[0m \u001b[0;34m=\u001b[0m \u001b[0mProfileReport\u001b[0m\u001b[0;34m(\u001b[0m\u001b[0mdf\u001b[0m\u001b[0;34m,\u001b[0m \u001b[0mtitle\u001b[0m\u001b[0;34m=\u001b[0m\u001b[0;34m'Profile Report'\u001b[0m\u001b[0;34m,\u001b[0m \u001b[0mhtml\u001b[0m\u001b[0;34m=\u001b[0m\u001b[0;34m{\u001b[0m\u001b[0;34m'style'\u001b[0m\u001b[0;34m:\u001b[0m\u001b[0;34m{\u001b[0m\u001b[0;34m'full_width'\u001b[0m\u001b[0;34m:\u001b[0m\u001b[0;32mTrue\u001b[0m\u001b[0;34m}\u001b[0m\u001b[0;34m}\u001b[0m\u001b[0;34m)\u001b[0m\u001b[0;34m\u001b[0m\u001b[0;34m\u001b[0m\u001b[0m\n\u001b[0m",
      "\u001b[0;31mNameError\u001b[0m: name 'ProfileReport' is not defined"
     ]
    }
   ],
   "source": [
    "profile_report = ProfileReport(df, title='Profile Report', html={'style':{'full_width':True}})"
   ]
  },
  {
   "cell_type": "code",
   "execution_count": null,
   "metadata": {},
   "outputs": [],
   "source": [
    "profile_report.to_notebook_iframe()"
   ]
  },
  {
   "cell_type": "code",
   "execution_count": 3,
   "metadata": {},
   "outputs": [
    {
     "name": "stdout",
     "output_type": "stream",
     "text": [
      "<class 'pandas.core.frame.DataFrame'>\n",
      "RangeIndex: 1460 entries, 0 to 1459\n",
      "Data columns (total 81 columns):\n",
      "Id               1460 non-null int64\n",
      "MSSubClass       1460 non-null int64\n",
      "MSZoning         1460 non-null object\n",
      "LotFrontage      1201 non-null float64\n",
      "LotArea          1460 non-null int64\n",
      "Street           1460 non-null object\n",
      "Alley            91 non-null object\n",
      "LotShape         1460 non-null object\n",
      "LandContour      1460 non-null object\n",
      "Utilities        1460 non-null object\n",
      "LotConfig        1460 non-null object\n",
      "LandSlope        1460 non-null object\n",
      "Neighborhood     1460 non-null object\n",
      "Condition1       1460 non-null object\n",
      "Condition2       1460 non-null object\n",
      "BldgType         1460 non-null object\n",
      "HouseStyle       1460 non-null object\n",
      "OverallQual      1460 non-null int64\n",
      "OverallCond      1460 non-null int64\n",
      "YearBuilt        1460 non-null int64\n",
      "YearRemodAdd     1460 non-null int64\n",
      "RoofStyle        1460 non-null object\n",
      "RoofMatl         1460 non-null object\n",
      "Exterior1st      1460 non-null object\n",
      "Exterior2nd      1460 non-null object\n",
      "MasVnrType       1452 non-null object\n",
      "MasVnrArea       1452 non-null float64\n",
      "ExterQual        1460 non-null object\n",
      "ExterCond        1460 non-null object\n",
      "Foundation       1460 non-null object\n",
      "BsmtQual         1423 non-null object\n",
      "BsmtCond         1423 non-null object\n",
      "BsmtExposure     1422 non-null object\n",
      "BsmtFinType1     1423 non-null object\n",
      "BsmtFinSF1       1460 non-null int64\n",
      "BsmtFinType2     1422 non-null object\n",
      "BsmtFinSF2       1460 non-null int64\n",
      "BsmtUnfSF        1460 non-null int64\n",
      "TotalBsmtSF      1460 non-null int64\n",
      "Heating          1460 non-null object\n",
      "HeatingQC        1460 non-null object\n",
      "CentralAir       1460 non-null object\n",
      "Electrical       1459 non-null object\n",
      "1stFlrSF         1460 non-null int64\n",
      "2ndFlrSF         1460 non-null int64\n",
      "LowQualFinSF     1460 non-null int64\n",
      "GrLivArea        1460 non-null int64\n",
      "BsmtFullBath     1460 non-null int64\n",
      "BsmtHalfBath     1460 non-null int64\n",
      "FullBath         1460 non-null int64\n",
      "HalfBath         1460 non-null int64\n",
      "BedroomAbvGr     1460 non-null int64\n",
      "KitchenAbvGr     1460 non-null int64\n",
      "KitchenQual      1460 non-null object\n",
      "TotRmsAbvGrd     1460 non-null int64\n",
      "Functional       1460 non-null object\n",
      "Fireplaces       1460 non-null int64\n",
      "FireplaceQu      770 non-null object\n",
      "GarageType       1379 non-null object\n",
      "GarageYrBlt      1379 non-null float64\n",
      "GarageFinish     1379 non-null object\n",
      "GarageCars       1460 non-null int64\n",
      "GarageArea       1460 non-null int64\n",
      "GarageQual       1379 non-null object\n",
      "GarageCond       1379 non-null object\n",
      "PavedDrive       1460 non-null object\n",
      "WoodDeckSF       1460 non-null int64\n",
      "OpenPorchSF      1460 non-null int64\n",
      "EnclosedPorch    1460 non-null int64\n",
      "3SsnPorch        1460 non-null int64\n",
      "ScreenPorch      1460 non-null int64\n",
      "PoolArea         1460 non-null int64\n",
      "PoolQC           7 non-null object\n",
      "Fence            281 non-null object\n",
      "MiscFeature      54 non-null object\n",
      "MiscVal          1460 non-null int64\n",
      "MoSold           1460 non-null int64\n",
      "YrSold           1460 non-null int64\n",
      "SaleType         1460 non-null object\n",
      "SaleCondition    1460 non-null object\n",
      "SalePrice        1460 non-null int64\n",
      "dtypes: float64(3), int64(35), object(43)\n",
      "memory usage: 924.0+ KB\n"
     ]
    }
   ],
   "source": [
    "train.info()"
   ]
  },
  {
   "cell_type": "code",
   "execution_count": null,
   "metadata": {},
   "outputs": [],
   "source": []
  },
  {
   "cell_type": "code",
   "execution_count": 4,
   "metadata": {},
   "outputs": [
    {
     "name": "stdout",
     "output_type": "stream",
     "text": [
      "<class 'pandas.core.frame.DataFrame'>\n",
      "RangeIndex: 1459 entries, 0 to 1458\n",
      "Data columns (total 80 columns):\n",
      "Id               1459 non-null int64\n",
      "MSSubClass       1459 non-null int64\n",
      "MSZoning         1455 non-null object\n",
      "LotFrontage      1232 non-null float64\n",
      "LotArea          1459 non-null int64\n",
      "Street           1459 non-null object\n",
      "Alley            107 non-null object\n",
      "LotShape         1459 non-null object\n",
      "LandContour      1459 non-null object\n",
      "Utilities        1457 non-null object\n",
      "LotConfig        1459 non-null object\n",
      "LandSlope        1459 non-null object\n",
      "Neighborhood     1459 non-null object\n",
      "Condition1       1459 non-null object\n",
      "Condition2       1459 non-null object\n",
      "BldgType         1459 non-null object\n",
      "HouseStyle       1459 non-null object\n",
      "OverallQual      1459 non-null int64\n",
      "OverallCond      1459 non-null int64\n",
      "YearBuilt        1459 non-null int64\n",
      "YearRemodAdd     1459 non-null int64\n",
      "RoofStyle        1459 non-null object\n",
      "RoofMatl         1459 non-null object\n",
      "Exterior1st      1458 non-null object\n",
      "Exterior2nd      1458 non-null object\n",
      "MasVnrType       1443 non-null object\n",
      "MasVnrArea       1444 non-null float64\n",
      "ExterQual        1459 non-null object\n",
      "ExterCond        1459 non-null object\n",
      "Foundation       1459 non-null object\n",
      "BsmtQual         1415 non-null object\n",
      "BsmtCond         1414 non-null object\n",
      "BsmtExposure     1415 non-null object\n",
      "BsmtFinType1     1417 non-null object\n",
      "BsmtFinSF1       1458 non-null float64\n",
      "BsmtFinType2     1417 non-null object\n",
      "BsmtFinSF2       1458 non-null float64\n",
      "BsmtUnfSF        1458 non-null float64\n",
      "TotalBsmtSF      1458 non-null float64\n",
      "Heating          1459 non-null object\n",
      "HeatingQC        1459 non-null object\n",
      "CentralAir       1459 non-null object\n",
      "Electrical       1459 non-null object\n",
      "1stFlrSF         1459 non-null int64\n",
      "2ndFlrSF         1459 non-null int64\n",
      "LowQualFinSF     1459 non-null int64\n",
      "GrLivArea        1459 non-null int64\n",
      "BsmtFullBath     1457 non-null float64\n",
      "BsmtHalfBath     1457 non-null float64\n",
      "FullBath         1459 non-null int64\n",
      "HalfBath         1459 non-null int64\n",
      "BedroomAbvGr     1459 non-null int64\n",
      "KitchenAbvGr     1459 non-null int64\n",
      "KitchenQual      1458 non-null object\n",
      "TotRmsAbvGrd     1459 non-null int64\n",
      "Functional       1457 non-null object\n",
      "Fireplaces       1459 non-null int64\n",
      "FireplaceQu      729 non-null object\n",
      "GarageType       1383 non-null object\n",
      "GarageYrBlt      1381 non-null float64\n",
      "GarageFinish     1381 non-null object\n",
      "GarageCars       1458 non-null float64\n",
      "GarageArea       1458 non-null float64\n",
      "GarageQual       1381 non-null object\n",
      "GarageCond       1381 non-null object\n",
      "PavedDrive       1459 non-null object\n",
      "WoodDeckSF       1459 non-null int64\n",
      "OpenPorchSF      1459 non-null int64\n",
      "EnclosedPorch    1459 non-null int64\n",
      "3SsnPorch        1459 non-null int64\n",
      "ScreenPorch      1459 non-null int64\n",
      "PoolArea         1459 non-null int64\n",
      "PoolQC           3 non-null object\n",
      "Fence            290 non-null object\n",
      "MiscFeature      51 non-null object\n",
      "MiscVal          1459 non-null int64\n",
      "MoSold           1459 non-null int64\n",
      "YrSold           1459 non-null int64\n",
      "SaleType         1458 non-null object\n",
      "SaleCondition    1459 non-null object\n",
      "dtypes: float64(11), int64(26), object(43)\n",
      "memory usage: 912.0+ KB\n"
     ]
    }
   ],
   "source": [
    "test.info()"
   ]
  },
  {
   "cell_type": "code",
   "execution_count": 5,
   "metadata": {},
   "outputs": [
    {
     "data": {
      "text/html": [
       "<div>\n",
       "<style scoped>\n",
       "    .dataframe tbody tr th:only-of-type {\n",
       "        vertical-align: middle;\n",
       "    }\n",
       "\n",
       "    .dataframe tbody tr th {\n",
       "        vertical-align: top;\n",
       "    }\n",
       "\n",
       "    .dataframe thead th {\n",
       "        text-align: right;\n",
       "    }\n",
       "</style>\n",
       "<table border=\"1\" class=\"dataframe\">\n",
       "  <thead>\n",
       "    <tr style=\"text-align: right;\">\n",
       "      <th></th>\n",
       "      <th>MSZoning</th>\n",
       "      <th>Street</th>\n",
       "      <th>Alley</th>\n",
       "      <th>LotShape</th>\n",
       "      <th>LandContour</th>\n",
       "      <th>Utilities</th>\n",
       "      <th>LotConfig</th>\n",
       "      <th>LandSlope</th>\n",
       "      <th>Neighborhood</th>\n",
       "      <th>Condition1</th>\n",
       "      <th>...</th>\n",
       "      <th>GarageType</th>\n",
       "      <th>GarageFinish</th>\n",
       "      <th>GarageQual</th>\n",
       "      <th>GarageCond</th>\n",
       "      <th>PavedDrive</th>\n",
       "      <th>PoolQC</th>\n",
       "      <th>Fence</th>\n",
       "      <th>MiscFeature</th>\n",
       "      <th>SaleType</th>\n",
       "      <th>SaleCondition</th>\n",
       "    </tr>\n",
       "  </thead>\n",
       "  <tbody>\n",
       "    <tr>\n",
       "      <td>0</td>\n",
       "      <td>RL</td>\n",
       "      <td>Pave</td>\n",
       "      <td>NaN</td>\n",
       "      <td>Reg</td>\n",
       "      <td>Lvl</td>\n",
       "      <td>AllPub</td>\n",
       "      <td>Inside</td>\n",
       "      <td>Gtl</td>\n",
       "      <td>CollgCr</td>\n",
       "      <td>Norm</td>\n",
       "      <td>...</td>\n",
       "      <td>Attchd</td>\n",
       "      <td>RFn</td>\n",
       "      <td>TA</td>\n",
       "      <td>TA</td>\n",
       "      <td>Y</td>\n",
       "      <td>NaN</td>\n",
       "      <td>NaN</td>\n",
       "      <td>NaN</td>\n",
       "      <td>WD</td>\n",
       "      <td>Normal</td>\n",
       "    </tr>\n",
       "    <tr>\n",
       "      <td>1</td>\n",
       "      <td>RL</td>\n",
       "      <td>Pave</td>\n",
       "      <td>NaN</td>\n",
       "      <td>Reg</td>\n",
       "      <td>Lvl</td>\n",
       "      <td>AllPub</td>\n",
       "      <td>FR2</td>\n",
       "      <td>Gtl</td>\n",
       "      <td>Veenker</td>\n",
       "      <td>Feedr</td>\n",
       "      <td>...</td>\n",
       "      <td>Attchd</td>\n",
       "      <td>RFn</td>\n",
       "      <td>TA</td>\n",
       "      <td>TA</td>\n",
       "      <td>Y</td>\n",
       "      <td>NaN</td>\n",
       "      <td>NaN</td>\n",
       "      <td>NaN</td>\n",
       "      <td>WD</td>\n",
       "      <td>Normal</td>\n",
       "    </tr>\n",
       "    <tr>\n",
       "      <td>2</td>\n",
       "      <td>RL</td>\n",
       "      <td>Pave</td>\n",
       "      <td>NaN</td>\n",
       "      <td>IR1</td>\n",
       "      <td>Lvl</td>\n",
       "      <td>AllPub</td>\n",
       "      <td>Inside</td>\n",
       "      <td>Gtl</td>\n",
       "      <td>CollgCr</td>\n",
       "      <td>Norm</td>\n",
       "      <td>...</td>\n",
       "      <td>Attchd</td>\n",
       "      <td>RFn</td>\n",
       "      <td>TA</td>\n",
       "      <td>TA</td>\n",
       "      <td>Y</td>\n",
       "      <td>NaN</td>\n",
       "      <td>NaN</td>\n",
       "      <td>NaN</td>\n",
       "      <td>WD</td>\n",
       "      <td>Normal</td>\n",
       "    </tr>\n",
       "    <tr>\n",
       "      <td>3</td>\n",
       "      <td>RL</td>\n",
       "      <td>Pave</td>\n",
       "      <td>NaN</td>\n",
       "      <td>IR1</td>\n",
       "      <td>Lvl</td>\n",
       "      <td>AllPub</td>\n",
       "      <td>Corner</td>\n",
       "      <td>Gtl</td>\n",
       "      <td>Crawfor</td>\n",
       "      <td>Norm</td>\n",
       "      <td>...</td>\n",
       "      <td>Detchd</td>\n",
       "      <td>Unf</td>\n",
       "      <td>TA</td>\n",
       "      <td>TA</td>\n",
       "      <td>Y</td>\n",
       "      <td>NaN</td>\n",
       "      <td>NaN</td>\n",
       "      <td>NaN</td>\n",
       "      <td>WD</td>\n",
       "      <td>Abnorml</td>\n",
       "    </tr>\n",
       "    <tr>\n",
       "      <td>4</td>\n",
       "      <td>RL</td>\n",
       "      <td>Pave</td>\n",
       "      <td>NaN</td>\n",
       "      <td>IR1</td>\n",
       "      <td>Lvl</td>\n",
       "      <td>AllPub</td>\n",
       "      <td>FR2</td>\n",
       "      <td>Gtl</td>\n",
       "      <td>NoRidge</td>\n",
       "      <td>Norm</td>\n",
       "      <td>...</td>\n",
       "      <td>Attchd</td>\n",
       "      <td>RFn</td>\n",
       "      <td>TA</td>\n",
       "      <td>TA</td>\n",
       "      <td>Y</td>\n",
       "      <td>NaN</td>\n",
       "      <td>NaN</td>\n",
       "      <td>NaN</td>\n",
       "      <td>WD</td>\n",
       "      <td>Normal</td>\n",
       "    </tr>\n",
       "  </tbody>\n",
       "</table>\n",
       "<p>5 rows × 43 columns</p>\n",
       "</div>"
      ],
      "text/plain": [
       "  MSZoning Street Alley LotShape LandContour Utilities LotConfig LandSlope  \\\n",
       "0       RL   Pave   NaN      Reg         Lvl    AllPub    Inside       Gtl   \n",
       "1       RL   Pave   NaN      Reg         Lvl    AllPub       FR2       Gtl   \n",
       "2       RL   Pave   NaN      IR1         Lvl    AllPub    Inside       Gtl   \n",
       "3       RL   Pave   NaN      IR1         Lvl    AllPub    Corner       Gtl   \n",
       "4       RL   Pave   NaN      IR1         Lvl    AllPub       FR2       Gtl   \n",
       "\n",
       "  Neighborhood Condition1  ... GarageType GarageFinish GarageQual GarageCond  \\\n",
       "0      CollgCr       Norm  ...     Attchd          RFn         TA         TA   \n",
       "1      Veenker      Feedr  ...     Attchd          RFn         TA         TA   \n",
       "2      CollgCr       Norm  ...     Attchd          RFn         TA         TA   \n",
       "3      Crawfor       Norm  ...     Detchd          Unf         TA         TA   \n",
       "4      NoRidge       Norm  ...     Attchd          RFn         TA         TA   \n",
       "\n",
       "  PavedDrive PoolQC Fence MiscFeature SaleType SaleCondition  \n",
       "0          Y    NaN   NaN         NaN       WD        Normal  \n",
       "1          Y    NaN   NaN         NaN       WD        Normal  \n",
       "2          Y    NaN   NaN         NaN       WD        Normal  \n",
       "3          Y    NaN   NaN         NaN       WD       Abnorml  \n",
       "4          Y    NaN   NaN         NaN       WD        Normal  \n",
       "\n",
       "[5 rows x 43 columns]"
      ]
     },
     "execution_count": 5,
     "metadata": {},
     "output_type": "execute_result"
    }
   ],
   "source": [
    "houses.select_dtypes(include='object').head()"
   ]
  },
  {
   "cell_type": "code",
   "execution_count": 6,
   "metadata": {},
   "outputs": [
    {
     "data": {
      "text/html": [
       "<div>\n",
       "<style scoped>\n",
       "    .dataframe tbody tr th:only-of-type {\n",
       "        vertical-align: middle;\n",
       "    }\n",
       "\n",
       "    .dataframe tbody tr th {\n",
       "        vertical-align: top;\n",
       "    }\n",
       "\n",
       "    .dataframe thead th {\n",
       "        text-align: right;\n",
       "    }\n",
       "</style>\n",
       "<table border=\"1\" class=\"dataframe\">\n",
       "  <thead>\n",
       "    <tr style=\"text-align: right;\">\n",
       "      <th></th>\n",
       "      <th>Id</th>\n",
       "      <th>MSSubClass</th>\n",
       "      <th>LotFrontage</th>\n",
       "      <th>LotArea</th>\n",
       "      <th>OverallQual</th>\n",
       "      <th>OverallCond</th>\n",
       "      <th>YearBuilt</th>\n",
       "      <th>YearRemodAdd</th>\n",
       "      <th>MasVnrArea</th>\n",
       "      <th>BsmtFinSF1</th>\n",
       "      <th>...</th>\n",
       "      <th>WoodDeckSF</th>\n",
       "      <th>OpenPorchSF</th>\n",
       "      <th>EnclosedPorch</th>\n",
       "      <th>3SsnPorch</th>\n",
       "      <th>ScreenPorch</th>\n",
       "      <th>PoolArea</th>\n",
       "      <th>MiscVal</th>\n",
       "      <th>MoSold</th>\n",
       "      <th>YrSold</th>\n",
       "      <th>SalePrice</th>\n",
       "    </tr>\n",
       "  </thead>\n",
       "  <tbody>\n",
       "    <tr>\n",
       "      <td>0</td>\n",
       "      <td>1</td>\n",
       "      <td>60</td>\n",
       "      <td>65.0</td>\n",
       "      <td>8450</td>\n",
       "      <td>7</td>\n",
       "      <td>5</td>\n",
       "      <td>2003</td>\n",
       "      <td>2003</td>\n",
       "      <td>196.0</td>\n",
       "      <td>706.0</td>\n",
       "      <td>...</td>\n",
       "      <td>0</td>\n",
       "      <td>61</td>\n",
       "      <td>0</td>\n",
       "      <td>0</td>\n",
       "      <td>0</td>\n",
       "      <td>0</td>\n",
       "      <td>0</td>\n",
       "      <td>2</td>\n",
       "      <td>2008</td>\n",
       "      <td>208500.0</td>\n",
       "    </tr>\n",
       "    <tr>\n",
       "      <td>1</td>\n",
       "      <td>2</td>\n",
       "      <td>20</td>\n",
       "      <td>80.0</td>\n",
       "      <td>9600</td>\n",
       "      <td>6</td>\n",
       "      <td>8</td>\n",
       "      <td>1976</td>\n",
       "      <td>1976</td>\n",
       "      <td>0.0</td>\n",
       "      <td>978.0</td>\n",
       "      <td>...</td>\n",
       "      <td>298</td>\n",
       "      <td>0</td>\n",
       "      <td>0</td>\n",
       "      <td>0</td>\n",
       "      <td>0</td>\n",
       "      <td>0</td>\n",
       "      <td>0</td>\n",
       "      <td>5</td>\n",
       "      <td>2007</td>\n",
       "      <td>181500.0</td>\n",
       "    </tr>\n",
       "    <tr>\n",
       "      <td>2</td>\n",
       "      <td>3</td>\n",
       "      <td>60</td>\n",
       "      <td>68.0</td>\n",
       "      <td>11250</td>\n",
       "      <td>7</td>\n",
       "      <td>5</td>\n",
       "      <td>2001</td>\n",
       "      <td>2002</td>\n",
       "      <td>162.0</td>\n",
       "      <td>486.0</td>\n",
       "      <td>...</td>\n",
       "      <td>0</td>\n",
       "      <td>42</td>\n",
       "      <td>0</td>\n",
       "      <td>0</td>\n",
       "      <td>0</td>\n",
       "      <td>0</td>\n",
       "      <td>0</td>\n",
       "      <td>9</td>\n",
       "      <td>2008</td>\n",
       "      <td>223500.0</td>\n",
       "    </tr>\n",
       "    <tr>\n",
       "      <td>3</td>\n",
       "      <td>4</td>\n",
       "      <td>70</td>\n",
       "      <td>60.0</td>\n",
       "      <td>9550</td>\n",
       "      <td>7</td>\n",
       "      <td>5</td>\n",
       "      <td>1915</td>\n",
       "      <td>1970</td>\n",
       "      <td>0.0</td>\n",
       "      <td>216.0</td>\n",
       "      <td>...</td>\n",
       "      <td>0</td>\n",
       "      <td>35</td>\n",
       "      <td>272</td>\n",
       "      <td>0</td>\n",
       "      <td>0</td>\n",
       "      <td>0</td>\n",
       "      <td>0</td>\n",
       "      <td>2</td>\n",
       "      <td>2006</td>\n",
       "      <td>140000.0</td>\n",
       "    </tr>\n",
       "    <tr>\n",
       "      <td>4</td>\n",
       "      <td>5</td>\n",
       "      <td>60</td>\n",
       "      <td>84.0</td>\n",
       "      <td>14260</td>\n",
       "      <td>8</td>\n",
       "      <td>5</td>\n",
       "      <td>2000</td>\n",
       "      <td>2000</td>\n",
       "      <td>350.0</td>\n",
       "      <td>655.0</td>\n",
       "      <td>...</td>\n",
       "      <td>192</td>\n",
       "      <td>84</td>\n",
       "      <td>0</td>\n",
       "      <td>0</td>\n",
       "      <td>0</td>\n",
       "      <td>0</td>\n",
       "      <td>0</td>\n",
       "      <td>12</td>\n",
       "      <td>2008</td>\n",
       "      <td>250000.0</td>\n",
       "    </tr>\n",
       "  </tbody>\n",
       "</table>\n",
       "<p>5 rows × 38 columns</p>\n",
       "</div>"
      ],
      "text/plain": [
       "   Id  MSSubClass  LotFrontage  LotArea  OverallQual  OverallCond  YearBuilt  \\\n",
       "0   1          60         65.0     8450            7            5       2003   \n",
       "1   2          20         80.0     9600            6            8       1976   \n",
       "2   3          60         68.0    11250            7            5       2001   \n",
       "3   4          70         60.0     9550            7            5       1915   \n",
       "4   5          60         84.0    14260            8            5       2000   \n",
       "\n",
       "   YearRemodAdd  MasVnrArea  BsmtFinSF1  ...  WoodDeckSF  OpenPorchSF  \\\n",
       "0          2003       196.0       706.0  ...           0           61   \n",
       "1          1976         0.0       978.0  ...         298            0   \n",
       "2          2002       162.0       486.0  ...           0           42   \n",
       "3          1970         0.0       216.0  ...           0           35   \n",
       "4          2000       350.0       655.0  ...         192           84   \n",
       "\n",
       "   EnclosedPorch  3SsnPorch  ScreenPorch  PoolArea  MiscVal  MoSold  YrSold  \\\n",
       "0              0          0            0         0        0       2    2008   \n",
       "1              0          0            0         0        0       5    2007   \n",
       "2              0          0            0         0        0       9    2008   \n",
       "3            272          0            0         0        0       2    2006   \n",
       "4              0          0            0         0        0      12    2008   \n",
       "\n",
       "   SalePrice  \n",
       "0   208500.0  \n",
       "1   181500.0  \n",
       "2   223500.0  \n",
       "3   140000.0  \n",
       "4   250000.0  \n",
       "\n",
       "[5 rows x 38 columns]"
      ]
     },
     "execution_count": 6,
     "metadata": {},
     "output_type": "execute_result"
    }
   ],
   "source": [
    "houses.select_dtypes(include=['float','int']).head()"
   ]
  },
  {
   "cell_type": "code",
   "execution_count": 7,
   "metadata": {},
   "outputs": [
    {
     "data": {
      "text/plain": [
       "MSZoning           4\n",
       "Alley           2721\n",
       "Utilities          2\n",
       "Exterior1st        1\n",
       "Exterior2nd        1\n",
       "MasVnrType        24\n",
       "BsmtQual          81\n",
       "BsmtCond          82\n",
       "BsmtExposure      82\n",
       "BsmtFinType1      79\n",
       "BsmtFinType2      80\n",
       "Electrical         1\n",
       "KitchenQual        1\n",
       "Functional         2\n",
       "FireplaceQu     1420\n",
       "GarageType       157\n",
       "GarageFinish     159\n",
       "GarageQual       159\n",
       "GarageCond       159\n",
       "PoolQC          2909\n",
       "Fence           2348\n",
       "MiscFeature     2814\n",
       "SaleType           1\n",
       "dtype: int64"
      ]
     },
     "execution_count": 7,
     "metadata": {},
     "output_type": "execute_result"
    }
   ],
   "source": [
    "houses.select_dtypes(include='object').isnull().sum()[houses.select_dtypes(include='object').isnull().sum()>0]"
   ]
  },
  {
   "cell_type": "code",
   "execution_count": 8,
   "metadata": {},
   "outputs": [],
   "source": [
    "for col in ('Alley','Utilities','MasVnrType','BsmtQual','BsmtCond','BsmtExposure','BsmtFinType1',\n",
    "            'BsmtFinType2','Electrical','FireplaceQu','GarageType','GarageFinish','GarageQual','GarageCond',\n",
    "           'PoolQC','Fence','MiscFeature'):\n",
    "    train[col]=train[col].fillna('None')\n",
    "    test[col]=test[col].fillna('None')"
   ]
  },
  {
   "cell_type": "code",
   "execution_count": 9,
   "metadata": {},
   "outputs": [],
   "source": [
    "for col in ('MSZoning','Exterior1st','Exterior2nd','KitchenQual','SaleType','Functional'):\n",
    "    train[col]=train[col].fillna(train[col].mode()[0])\n",
    "    test[col]=test[col].fillna(train[col].mode()[0])"
   ]
  },
  {
   "cell_type": "code",
   "execution_count": 10,
   "metadata": {},
   "outputs": [
    {
     "data": {
      "text/plain": [
       "LotFrontage      486\n",
       "MasVnrArea        23\n",
       "BsmtFinSF1         1\n",
       "BsmtFinSF2         1\n",
       "BsmtUnfSF          1\n",
       "TotalBsmtSF        1\n",
       "BsmtFullBath       2\n",
       "BsmtHalfBath       2\n",
       "GarageYrBlt      159\n",
       "GarageCars         1\n",
       "GarageArea         1\n",
       "SalePrice       1459\n",
       "dtype: int64"
      ]
     },
     "execution_count": 10,
     "metadata": {},
     "output_type": "execute_result"
    }
   ],
   "source": [
    "houses.select_dtypes(include=['int','float']).isnull().sum()[houses.select_dtypes(include=['int','float']).isnull().sum()>0]"
   ]
  },
  {
   "cell_type": "code",
   "execution_count": 11,
   "metadata": {},
   "outputs": [],
   "source": [
    "for col in ('MasVnrArea','BsmtFinSF1','BsmtFinSF2','BsmtUnfSF','TotalBsmtSF','BsmtFullBath','BsmtHalfBath','GarageYrBlt','GarageCars','GarageArea'):\n",
    "    train[col]=train[col].fillna(0)\n",
    "    test[col]=test[col].fillna(0)"
   ]
  },
  {
   "cell_type": "code",
   "execution_count": 12,
   "metadata": {},
   "outputs": [],
   "source": [
    "train['LotFrontage']=train['LotFrontage'].fillna(train['LotFrontage'].mean())\n",
    "test['LotFrontage']=test['LotFrontage'].fillna(train['LotFrontage'].mean())"
   ]
  },
  {
   "cell_type": "code",
   "execution_count": 13,
   "metadata": {},
   "outputs": [
    {
     "name": "stdout",
     "output_type": "stream",
     "text": [
      "0\n",
      "0\n"
     ]
    }
   ],
   "source": [
    "print(train.isnull().sum().sum())\n",
    "print(train.isnull().sum().sum())"
   ]
  },
  {
   "cell_type": "code",
   "execution_count": 14,
   "metadata": {},
   "outputs": [
    {
     "data": {
      "image/png": "[encoded data removed]",
      "text/plain": [
       "<Figure size 1008x576 with 2 Axes>"
      ]
     },
     "metadata": {
      "needs_background": "light"
     },
     "output_type": "display_data"
    }
   ],
   "source": [
    "# Initiate correlation matrix\n",
    "corrmat = houses.corr()\n",
    "\n",
    "# Set-up mask\n",
    "mask = np.zeros_like(corrmat, dtype=np.bool)\n",
    "mask[np.triu_indices_from(mask)] = True\n",
    "\n",
    "# Set-up figure\n",
    "plt.figure(figsize=(14, 8))\n",
    "plt.title('Overall Correlation of Features', fontsize=18)\n",
    "ax = sns.heatmap(corrmat, mask=mask, cmap='RdYlGn', linewidths=0.2, annot_kws={'size':20})\n",
    "\n",
    "# Fix bug in heatmap to display full high rows on top and bottom\n",
    "bottom, top = ax.get_ylim()\n",
    "ax.set_ylim(bottom + 0.5, top - 0.5)\n",
    "\n",
    "ax.set_xticklabels(\n",
    "    ax.get_xticklabels(),\n",
    "    rotation=45,\n",
    "    horizontalalignment='right'\n",
    ")\n",
    "plt.show()"
   ]
  },
  {
   "cell_type": "code",
   "execution_count": 15,
   "metadata": {},
   "outputs": [
    {
     "data": {
      "image/png": "[encoded data removed]",
      "text/plain": [
       "<Figure size 1008x576 with 2 Axes>"
      ]
     },
     "metadata": {
      "needs_background": "light"
     },
     "output_type": "display_data"
    }
   ],
   "source": [
    "#saleprice correlation matrix\n",
    "#set top number of variables for heatmap\n",
    "k = 10 \n",
    "cols = corrmat.nlargest(k, 'SalePrice')['SalePrice'].index\n",
    "cm = np.corrcoef(train[cols].values.T)\n",
    "\n",
    "plt.figure(figsize=(14, 8))\n",
    "plt.title('Top Correlation of Features', fontsize=18)\n",
    "sns.set(font_scale=1.25)\n",
    "ax = sns.heatmap(cm, cbar=True, annot=True, cmap='RdYlGn', square=True, fmt='.2f', annot_kws={'size': 12}, yticklabels=cols.values, xticklabels=cols.values)\n",
    "bottom, top = ax.get_ylim()\n",
    "ax.set_ylim(bottom + 0.5, top - 0.5)\n",
    "\n",
    "plt.show()"
   ]
  },
  {
   "cell_type": "code",
   "execution_count": 16,
   "metadata": {},
   "outputs": [
    {
     "name": "stdout",
     "output_type": "stream",
     "text": [
      "(1456, 77)\n"
     ]
    }
   ],
   "source": [
    "train.drop(['GarageArea','1stFlrSF','TotRmsAbvGrd','2ndFlrSF'], axis=1, inplace=True)\n",
    "test.drop(['GarageArea','1stFlrSF','TotRmsAbvGrd','2ndFlrSF'], axis=1, inplace=True)\n",
    "houses['MSSubClass']=houses['MSSubClass'].astype(str)\n",
    "train = train[train['GrLivArea']<4000]\n",
    "len_train=train.shape[0]\n",
    "print(train.shape)"
   ]
  },
  {
   "cell_type": "code",
   "execution_count": 31,
   "metadata": {},
   "outputs": [],
   "source": [
    "# Create updated version of houses, concatinating the latest train test\n",
    "houses=pd.concat([train,test], sort=False)"
   ]
  },
  {
   "cell_type": "code",
   "execution_count": 62,
   "metadata": {},
   "outputs": [
    {
     "data": {
      "text/html": [
       "<div>\n",
       "<style scoped>\n",
       "    .dataframe tbody tr th:only-of-type {\n",
       "        vertical-align: middle;\n",
       "    }\n",
       "\n",
       "    .dataframe tbody tr th {\n",
       "        vertical-align: top;\n",
       "    }\n",
       "\n",
       "    .dataframe thead th {\n",
       "        text-align: right;\n",
       "    }\n",
       "</style>\n",
       "<table border=\"1\" class=\"dataframe\">\n",
       "  <thead>\n",
       "    <tr style=\"text-align: right;\">\n",
       "      <th></th>\n",
       "      <th>Skew</th>\n",
       "    </tr>\n",
       "  </thead>\n",
       "  <tbody>\n",
       "    <tr>\n",
       "      <td>MiscVal</td>\n",
       "      <td>21.943440</td>\n",
       "    </tr>\n",
       "    <tr>\n",
       "      <td>PoolArea</td>\n",
       "      <td>18.711459</td>\n",
       "    </tr>\n",
       "    <tr>\n",
       "      <td>LotArea</td>\n",
       "      <td>13.130516</td>\n",
       "    </tr>\n",
       "    <tr>\n",
       "      <td>LowQualFinSF</td>\n",
       "      <td>12.086535</td>\n",
       "    </tr>\n",
       "    <tr>\n",
       "      <td>3SsnPorch</td>\n",
       "      <td>11.373947</td>\n",
       "    </tr>\n",
       "    <tr>\n",
       "      <td>KitchenAbvGr</td>\n",
       "      <td>4.301059</td>\n",
       "    </tr>\n",
       "    <tr>\n",
       "      <td>BsmtFinSF2</td>\n",
       "      <td>4.144996</td>\n",
       "    </tr>\n",
       "    <tr>\n",
       "      <td>EnclosedPorch</td>\n",
       "      <td>4.002856</td>\n",
       "    </tr>\n",
       "    <tr>\n",
       "      <td>ScreenPorch</td>\n",
       "      <td>3.945539</td>\n",
       "    </tr>\n",
       "    <tr>\n",
       "      <td>BsmtHalfBath</td>\n",
       "      <td>3.944922</td>\n",
       "    </tr>\n",
       "    <tr>\n",
       "      <td>MasVnrArea</td>\n",
       "      <td>2.602036</td>\n",
       "    </tr>\n",
       "    <tr>\n",
       "      <td>OpenPorchSF</td>\n",
       "      <td>2.530548</td>\n",
       "    </tr>\n",
       "    <tr>\n",
       "      <td>WoodDeckSF</td>\n",
       "      <td>1.849236</td>\n",
       "    </tr>\n",
       "    <tr>\n",
       "      <td>SalePrice</td>\n",
       "      <td>1.565959</td>\n",
       "    </tr>\n",
       "    <tr>\n",
       "      <td>MSSubClass</td>\n",
       "      <td>1.375512</td>\n",
       "    </tr>\n",
       "    <tr>\n",
       "      <td>LotFrontage</td>\n",
       "      <td>1.196755</td>\n",
       "    </tr>\n",
       "    <tr>\n",
       "      <td>GrLivArea</td>\n",
       "      <td>0.978364</td>\n",
       "    </tr>\n",
       "    <tr>\n",
       "      <td>BsmtFinSF1</td>\n",
       "      <td>0.974640</td>\n",
       "    </tr>\n",
       "    <tr>\n",
       "      <td>BsmtUnfSF</td>\n",
       "      <td>0.920609</td>\n",
       "    </tr>\n",
       "    <tr>\n",
       "      <td>Fireplaces</td>\n",
       "      <td>0.726331</td>\n",
       "    </tr>\n",
       "    <tr>\n",
       "      <td>HalfBath</td>\n",
       "      <td>0.699130</td>\n",
       "    </tr>\n",
       "    <tr>\n",
       "      <td>TotalBsmtSF</td>\n",
       "      <td>0.662998</td>\n",
       "    </tr>\n",
       "    <tr>\n",
       "      <td>BsmtFullBath</td>\n",
       "      <td>0.623140</td>\n",
       "    </tr>\n",
       "    <tr>\n",
       "      <td>OverallCond</td>\n",
       "      <td>0.569436</td>\n",
       "    </tr>\n",
       "    <tr>\n",
       "      <td>YearBuilt</td>\n",
       "      <td>-0.598395</td>\n",
       "    </tr>\n",
       "    <tr>\n",
       "      <td>GarageYrBlt</td>\n",
       "      <td>-3.905056</td>\n",
       "    </tr>\n",
       "  </tbody>\n",
       "</table>\n",
       "</div>"
      ],
      "text/plain": [
       "                    Skew\n",
       "MiscVal        21.943440\n",
       "PoolArea       18.711459\n",
       "LotArea        13.130516\n",
       "LowQualFinSF   12.086535\n",
       "3SsnPorch      11.373947\n",
       "KitchenAbvGr    4.301059\n",
       "BsmtFinSF2      4.144996\n",
       "EnclosedPorch   4.002856\n",
       "ScreenPorch     3.945539\n",
       "BsmtHalfBath    3.944922\n",
       "MasVnrArea      2.602036\n",
       "OpenPorchSF     2.530548\n",
       "WoodDeckSF      1.849236\n",
       "SalePrice       1.565959\n",
       "MSSubClass      1.375512\n",
       "LotFrontage     1.196755\n",
       "GrLivArea       0.978364\n",
       "BsmtFinSF1      0.974640\n",
       "BsmtUnfSF       0.920609\n",
       "Fireplaces      0.726331\n",
       "HalfBath        0.699130\n",
       "TotalBsmtSF     0.662998\n",
       "BsmtFullBath    0.623140\n",
       "OverallCond     0.569436\n",
       "YearBuilt      -0.598395\n",
       "GarageYrBlt    -3.905056"
      ]
     },
     "execution_count": 62,
     "metadata": {},
     "output_type": "execute_result"
    }
   ],
   "source": [
    "# find skewed values\n",
    "skewdf = pd.DataFrame(houses.skew(axis = 0, skipna = True).sort_values(ascending=False), columns=['Skew'])\n",
    "skewdf = skewdf[(skewdf['Skew']>0.5)|(skewdf['Skew']<-0.5)]\n",
    "skewdf"
   ]
  },
  {
   "cell_type": "code",
   "execution_count": 88,
   "metadata": {},
   "outputs": [],
   "source": [
    "train=houses[:len_train]\n",
    "test=houses[len_train:]"
   ]
  },
  {
   "cell_type": "code",
   "execution_count": 92,
   "metadata": {},
   "outputs": [
    {
     "name": "stdout",
     "output_type": "stream",
     "text": [
      "0       0.0\n",
      "1       0.0\n",
      "2       0.0\n",
      "3       0.0\n",
      "4       0.0\n",
      "       ... \n",
      "1455    0.0\n",
      "1456    0.0\n",
      "1457    0.0\n",
      "1458    0.0\n",
      "1459    0.0\n",
      "Name: PoolArea, Length: 1456, dtype: float64\n",
      "0       0.0\n",
      "1       0.0\n",
      "2       0.0\n",
      "3       0.0\n",
      "4       0.0\n",
      "       ... \n",
      "1454    0.0\n",
      "1455    0.0\n",
      "1456    0.0\n",
      "1457    0.0\n",
      "1458    0.0\n",
      "Name: PoolArea, Length: 1459, dtype: float64\n",
      "0       0.0\n",
      "1       0.0\n",
      "2       0.0\n",
      "3       0.0\n",
      "4       0.0\n",
      "       ... \n",
      "1455    0.0\n",
      "1456    0.0\n",
      "1457    0.0\n",
      "1458    0.0\n",
      "1459    0.0\n",
      "Name: 3SsnPorch, Length: 1456, dtype: float64\n",
      "0       0.0\n",
      "1       0.0\n",
      "2       0.0\n",
      "3       0.0\n",
      "4       0.0\n",
      "       ... \n",
      "1454    0.0\n",
      "1455    0.0\n",
      "1456    0.0\n",
      "1457    0.0\n",
      "1458    0.0\n",
      "Name: 3SsnPorch, Length: 1459, dtype: float64\n",
      "0       0.0\n",
      "1       0.0\n",
      "2       0.0\n",
      "3       0.0\n",
      "4       0.0\n",
      "       ... \n",
      "1455    0.0\n",
      "1456    0.0\n",
      "1457    0.0\n",
      "1458    0.0\n",
      "1459    0.0\n",
      "Name: LowQualFinSF, Length: 1456, dtype: float64\n",
      "0       0.0\n",
      "1       0.0\n",
      "2       0.0\n",
      "3       0.0\n",
      "4       0.0\n",
      "       ... \n",
      "1454    0.0\n",
      "1455    0.0\n",
      "1456    0.0\n",
      "1457    0.0\n",
      "1458    0.0\n",
      "Name: LowQualFinSF, Length: 1459, dtype: float64\n",
      "0       0.000000\n",
      "1       0.000000\n",
      "2       0.000000\n",
      "3       0.000000\n",
      "4       0.000000\n",
      "          ...   \n",
      "1455    0.000000\n",
      "1456    0.000000\n",
      "1457    1.461092\n",
      "1458    0.000000\n",
      "1459    0.000000\n",
      "Name: MiscVal, Length: 1456, dtype: float64\n",
      "0       0.000000\n",
      "1       1.556992\n",
      "2       0.000000\n",
      "3       0.000000\n",
      "4       0.000000\n",
      "          ...   \n",
      "1454    0.000000\n",
      "1455    0.000000\n",
      "1456    0.000000\n",
      "1457    1.373251\n",
      "1458    0.000000\n",
      "Name: MiscVal, Length: 1459, dtype: float64\n",
      "0       0.000000\n",
      "1       0.451976\n",
      "2       0.000000\n",
      "3       0.000000\n",
      "4       0.000000\n",
      "          ...   \n",
      "1455    0.000000\n",
      "1456    0.000000\n",
      "1457    0.000000\n",
      "1458    0.000000\n",
      "1459    0.000000\n",
      "Name: BsmtHalfBath, Length: 1456, dtype: float64\n",
      "0       0.000000\n",
      "1       0.000000\n",
      "2       0.000000\n",
      "3       0.000000\n",
      "4       0.000000\n",
      "          ...   \n",
      "1454    0.000000\n",
      "1455    0.000000\n",
      "1456    0.000000\n",
      "1457    0.451976\n",
      "1458    0.000000\n",
      "Name: BsmtHalfBath, Length: 1459, dtype: float64\n",
      "0       0.0\n",
      "1       0.0\n",
      "2       0.0\n",
      "3       0.0\n",
      "4       0.0\n",
      "       ... \n",
      "1455    0.0\n",
      "1456    0.0\n",
      "1457    0.0\n",
      "1458    0.0\n",
      "1459    0.0\n",
      "Name: ScreenPorch, Length: 1456, dtype: float64\n",
      "0       1.224547\n",
      "1       0.000000\n",
      "2       0.000000\n",
      "3       0.000000\n",
      "4       1.241854\n",
      "          ...   \n",
      "1454    0.000000\n",
      "1455    0.000000\n",
      "1456    0.000000\n",
      "1457    0.000000\n",
      "1458    0.000000\n",
      "Name: ScreenPorch, Length: 1459, dtype: float64\n",
      "0       0.451976\n",
      "1       0.451976\n",
      "2       0.451976\n",
      "3       0.451976\n",
      "4       0.451976\n",
      "          ...   \n",
      "1455    0.451976\n",
      "1456    0.451976\n",
      "1457    0.451976\n",
      "1458    0.451976\n",
      "1459    0.451976\n",
      "Name: KitchenAbvGr, Length: 1456, dtype: float64\n",
      "0       0.451976\n",
      "1       0.451976\n",
      "2       0.451976\n",
      "3       0.451976\n",
      "4       0.451976\n",
      "          ...   \n",
      "1454    0.451976\n",
      "1455    0.451976\n",
      "1456    0.451976\n",
      "1457    0.451976\n",
      "1458    0.451976\n",
      "Name: KitchenAbvGr, Length: 1459, dtype: float64\n",
      "0       0.000000\n",
      "1       0.000000\n",
      "2       0.000000\n",
      "3       0.000000\n",
      "4       0.000000\n",
      "          ...   \n",
      "1455    0.000000\n",
      "1456    1.253322\n",
      "1457    0.000000\n",
      "1458    1.401212\n",
      "1459    1.303774\n",
      "Name: BsmtFinSF2, Length: 1456, dtype: float64\n",
      "0       1.241854\n",
      "1       0.000000\n",
      "2       0.000000\n",
      "3       0.000000\n",
      "4       0.000000\n",
      "          ...   \n",
      "1454    0.000000\n",
      "1455    0.000000\n",
      "1456    0.000000\n",
      "1457    0.000000\n",
      "1458    0.000000\n",
      "Name: BsmtFinSF2, Length: 1459, dtype: float64\n",
      "0       0.000000\n",
      "1       0.000000\n",
      "2       0.000000\n",
      "3       1.298379\n",
      "4       0.000000\n",
      "          ...   \n",
      "1455    0.000000\n",
      "1456    0.000000\n",
      "1457    0.000000\n",
      "1458    1.217857\n",
      "1459    0.000000\n",
      "Name: EnclosedPorch, Length: 1456, dtype: float64\n",
      "0       0.0\n",
      "1       0.0\n",
      "2       0.0\n",
      "3       0.0\n",
      "4       0.0\n",
      "       ... \n",
      "1454    0.0\n",
      "1455    0.0\n",
      "1456    0.0\n",
      "1457    0.0\n",
      "1458    0.0\n",
      "Name: EnclosedPorch, Length: 1459, dtype: float64\n",
      "0       0.451976\n",
      "1       0.000000\n",
      "2       0.451976\n",
      "3       0.000000\n",
      "4       0.451976\n",
      "          ...   \n",
      "1455    0.451976\n",
      "1456    0.000000\n",
      "1457    0.000000\n",
      "1458    0.000000\n",
      "1459    0.451976\n",
      "Name: HalfBath, Length: 1456, dtype: float64\n",
      "0       0.000000\n",
      "1       0.451976\n",
      "2       0.451976\n",
      "3       0.451976\n",
      "4       0.000000\n",
      "          ...   \n",
      "1454    0.451976\n",
      "1455    0.451976\n",
      "1456    0.000000\n",
      "1457    0.000000\n",
      "1458    0.451976\n",
      "Name: HalfBath, Length: 1459, dtype: float64\n",
      "0       1.446681\n",
      "1       1.445787\n",
      "2       1.446615\n",
      "3       1.443718\n",
      "4       1.446582\n",
      "          ...   \n",
      "1455    1.446549\n",
      "1456    1.445854\n",
      "1457    1.444609\n",
      "1458    1.444914\n",
      "1459    1.445419\n",
      "Name: YearBuilt, Length: 1456, dtype: float64\n",
      "0       1.445285\n",
      "1       1.445184\n",
      "2       1.446483\n",
      "3       1.446516\n",
      "4       1.446318\n",
      "          ...   \n",
      "1454    1.445587\n",
      "1455    1.445587\n",
      "1456    1.445251\n",
      "1457    1.446318\n",
      "1458    1.446351\n",
      "Name: YearBuilt, Length: 1459, dtype: float64\n",
      "0       1.373885\n",
      "1       1.397598\n",
      "2       1.345487\n",
      "3       1.278537\n",
      "4       1.368292\n",
      "          ...   \n",
      "1455    0.000000\n",
      "1456    1.382172\n",
      "1457    1.299306\n",
      "1458    1.130827\n",
      "1459    1.385777\n",
      "Name: BsmtFinSF1, Length: 1456, dtype: float64\n",
      "0       1.342538\n",
      "1       1.393455\n",
      "2       1.382265\n",
      "3       1.361934\n",
      "4       1.295526\n",
      "          ...   \n",
      "1454    0.000000\n",
      "1455    1.291882\n",
      "1456    1.413391\n",
      "1457    1.316224\n",
      "1458    1.379138\n",
      "Name: BsmtFinSF1, Length: 1459, dtype: float64\n",
      "0       1.162106\n",
      "1       1.184037\n",
      "2       1.166945\n",
      "3       1.153419\n",
      "4       1.189069\n",
      "          ...   \n",
      "1455    1.156994\n",
      "1456    1.190283\n",
      "1457    1.163748\n",
      "1458    1.166945\n",
      "1459    1.177312\n",
      "Name: LotFrontage, Length: 1456, dtype: float64\n",
      "0       1.184037\n",
      "1       1.185323\n",
      "2       1.175903\n",
      "3       1.181408\n",
      "4       1.115766\n",
      "          ...   \n",
      "1454    1.025385\n",
      "1455    1.025385\n",
      "1456    1.251618\n",
      "1457    1.156994\n",
      "1458    1.175903\n",
      "Name: LotFrontage, Length: 1459, dtype: float64\n",
      "0       0.794085\n",
      "1       0.878328\n",
      "2       0.794085\n",
      "3       0.794085\n",
      "4       0.794085\n",
      "          ...   \n",
      "1455    0.794085\n",
      "1456    0.827806\n",
      "1457    0.898079\n",
      "1458    0.827806\n",
      "1459    0.827806\n",
      "Name: OverallCond, Length: 1456, dtype: float64\n",
      "0       0.827806\n",
      "1       0.827806\n",
      "2       0.794085\n",
      "3       0.827806\n",
      "4       0.794085\n",
      "          ...   \n",
      "1454    0.855285\n",
      "1455    0.794085\n",
      "1456    0.855285\n",
      "1457    0.794085\n",
      "1458    0.794085\n",
      "Name: OverallCond, Length: 1459, dtype: float64\n",
      "0       1.245657\n",
      "1       1.302020\n",
      "2       1.336599\n",
      "3       1.353640\n",
      "4       1.346125\n",
      "          ...   \n",
      "1455    1.395748\n",
      "1456    1.360277\n",
      "1457    1.389771\n",
      "1458    0.000000\n",
      "1459    1.236485\n",
      "Name: BsmtUnfSF, Length: 1456, dtype: float64\n",
      "0       1.297755\n",
      "1       1.331297\n",
      "2       1.237176\n",
      "3       1.312989\n",
      "4       1.400380\n",
      "          ...   \n",
      "1454    1.354489\n",
      "1455    1.304921\n",
      "1456    0.000000\n",
      "1457    1.358447\n",
      "1458    1.286970\n",
      "Name: BsmtUnfSF, Length: 1459, dtype: float64\n",
      "0       1.446681\n",
      "1       1.445787\n",
      "2       1.446615\n",
      "3       1.446516\n",
      "4       1.446582\n",
      "          ...   \n",
      "1455    1.446549\n",
      "1456    1.445854\n",
      "1457    1.444609\n",
      "1458    1.444914\n",
      "1459    1.445419\n",
      "Name: GarageYrBlt, Length: 1456, dtype: float64\n",
      "0       1.445285\n",
      "1       1.445184\n",
      "2       1.446483\n",
      "3       1.446516\n",
      "4       1.446318\n",
      "          ...   \n",
      "1454    0.000000\n",
      "1455    1.445587\n",
      "1456    1.445251\n",
      "1457    0.000000\n",
      "1458    1.446351\n",
      "Name: GarageYrBlt, Length: 1459, dtype: float64\n",
      "0       1.388017\n",
      "1       1.415512\n",
      "2       1.393221\n",
      "3       1.378943\n",
      "4       1.408738\n",
      "          ...   \n",
      "1455    1.395748\n",
      "1456    1.429228\n",
      "1457    1.409165\n",
      "1458    1.404502\n",
      "1459    1.415182\n",
      "Name: TotalBsmtSF, Length: 1456, dtype: float64\n",
      "0       1.390182\n",
      "1       1.419082\n",
      "2       1.393843\n",
      "3       1.393688\n",
      "4       1.416491\n",
      "          ...   \n",
      "1454    1.354489\n",
      "1455    1.354489\n",
      "1456    1.413391\n",
      "1457    1.392593\n",
      "1458    1.398897\n",
      "Name: TotalBsmtSF, Length: 1459, dtype: float64\n"
     ]
    }
   ],
   "source": [
    "lam=0.1\n",
    "train['SalePrice']=np.log(train['SalePrice'])\n",
    "for index, row in skewdf.iterrows():\n",
    "    if train[index].dtype != 'object':\n",
    "        train[index]=boxcox1p(train[index],lam)\n",
    "    if test[index].dtype != 'object':\n",
    "        test[index]=boxcox1p(test[index],lam)"
   ]
  },
  {
   "cell_type": "code",
   "execution_count": 93,
   "metadata": {},
   "outputs": [],
   "source": [
    "# Create updated version of houses, concatinating the latest train test\n",
    "houses=pd.concat([train,test], sort=False)"
   ]
  },
  {
   "cell_type": "code",
   "execution_count": 94,
   "metadata": {},
   "outputs": [
    {
     "data": {
      "text/html": [
       "<div>\n",
       "<style scoped>\n",
       "    .dataframe tbody tr th:only-of-type {\n",
       "        vertical-align: middle;\n",
       "    }\n",
       "\n",
       "    .dataframe tbody tr th {\n",
       "        vertical-align: top;\n",
       "    }\n",
       "\n",
       "    .dataframe thead th {\n",
       "        text-align: right;\n",
       "    }\n",
       "</style>\n",
       "<table border=\"1\" class=\"dataframe\">\n",
       "  <thead>\n",
       "    <tr style=\"text-align: right;\">\n",
       "      <th></th>\n",
       "      <th>Skew</th>\n",
       "    </tr>\n",
       "  </thead>\n",
       "  <tbody>\n",
       "    <tr>\n",
       "      <td>PoolArea</td>\n",
       "      <td>16.216606</td>\n",
       "    </tr>\n",
       "    <tr>\n",
       "      <td>3SsnPorch</td>\n",
       "      <td>8.730586</td>\n",
       "    </tr>\n",
       "    <tr>\n",
       "      <td>LowQualFinSF</td>\n",
       "      <td>8.394186</td>\n",
       "    </tr>\n",
       "    <tr>\n",
       "      <td>MiscVal</td>\n",
       "      <td>5.056032</td>\n",
       "    </tr>\n",
       "    <tr>\n",
       "      <td>BsmtHalfBath</td>\n",
       "      <td>3.739898</td>\n",
       "    </tr>\n",
       "    <tr>\n",
       "      <td>ScreenPorch</td>\n",
       "      <td>2.918497</td>\n",
       "    </tr>\n",
       "    <tr>\n",
       "      <td>BsmtFinSF2</td>\n",
       "      <td>2.372450</td>\n",
       "    </tr>\n",
       "    <tr>\n",
       "      <td>EnclosedPorch</td>\n",
       "      <td>1.895209</td>\n",
       "    </tr>\n",
       "    <tr>\n",
       "      <td>KitchenAbvGr</td>\n",
       "      <td>1.156995</td>\n",
       "    </tr>\n",
       "    <tr>\n",
       "      <td>HalfBath</td>\n",
       "      <td>0.550481</td>\n",
       "    </tr>\n",
       "    <tr>\n",
       "      <td>YearBuilt</td>\n",
       "      <td>-0.627705</td>\n",
       "    </tr>\n",
       "    <tr>\n",
       "      <td>BsmtFinSF1</td>\n",
       "      <td>-0.744037</td>\n",
       "    </tr>\n",
       "    <tr>\n",
       "      <td>LotFrontage</td>\n",
       "      <td>-1.487880</td>\n",
       "    </tr>\n",
       "    <tr>\n",
       "      <td>OverallCond</td>\n",
       "      <td>-2.058527</td>\n",
       "    </tr>\n",
       "    <tr>\n",
       "      <td>BsmtUnfSF</td>\n",
       "      <td>-2.858381</td>\n",
       "    </tr>\n",
       "    <tr>\n",
       "      <td>GarageYrBlt</td>\n",
       "      <td>-3.925118</td>\n",
       "    </tr>\n",
       "    <tr>\n",
       "      <td>TotalBsmtSF</td>\n",
       "      <td>-5.704226</td>\n",
       "    </tr>\n",
       "  </tbody>\n",
       "</table>\n",
       "</div>"
      ],
      "text/plain": [
       "                    Skew\n",
       "PoolArea       16.216606\n",
       "3SsnPorch       8.730586\n",
       "LowQualFinSF    8.394186\n",
       "MiscVal         5.056032\n",
       "BsmtHalfBath    3.739898\n",
       "ScreenPorch     2.918497\n",
       "BsmtFinSF2      2.372450\n",
       "EnclosedPorch   1.895209\n",
       "KitchenAbvGr    1.156995\n",
       "HalfBath        0.550481\n",
       "YearBuilt      -0.627705\n",
       "BsmtFinSF1     -0.744037\n",
       "LotFrontage    -1.487880\n",
       "OverallCond    -2.058527\n",
       "BsmtUnfSF      -2.858381\n",
       "GarageYrBlt    -3.925118\n",
       "TotalBsmtSF    -5.704226"
      ]
     },
     "execution_count": 94,
     "metadata": {},
     "output_type": "execute_result"
    }
   ],
   "source": [
    "# find skewed values\n",
    "skewdf = pd.DataFrame(houses.skew(axis = 0, skipna = True).sort_values(ascending=False), columns=['Skew'])\n",
    "skewdf = skewdf[(skewdf['Skew']>0.5)|(skewdf['Skew']<-0.5)]\n",
    "skewdf"
   ]
  },
  {
   "cell_type": "code",
   "execution_count": 95,
   "metadata": {},
   "outputs": [],
   "source": [
    "houses=pd.concat([train,test], sort=False)\n",
    "houses=pd.get_dummies(houses)"
   ]
  },
  {
   "cell_type": "markdown",
   "metadata": {},
   "source": [
    "# Separate train dataset and test dataset"
   ]
  },
  {
   "cell_type": "code",
   "execution_count": 186,
   "metadata": {},
   "outputs": [],
   "source": [
    "train=houses[:len_train]\n",
    "test=houses[len_train:]"
   ]
  },
  {
   "cell_type": "code",
   "execution_count": 187,
   "metadata": {},
   "outputs": [],
   "source": [
    "train.drop('Id', axis=1, inplace=True)\n",
    "test.drop('Id', axis=1, inplace=True)"
   ]
  },
  {
   "cell_type": "code",
   "execution_count": 100,
   "metadata": {},
   "outputs": [],
   "source": [
    "X_train =train.drop('SalePrice', axis=1)\n",
    "y_train =train['SalePrice']\n",
    "X_test = test.drop('SalePrice', axis=1)"
   ]
  },
  {
   "cell_type": "code",
   "execution_count": 101,
   "metadata": {},
   "outputs": [],
   "source": [
    "sc = RobustScaler()\n",
    "X_train =sc.fit_transform(X_train)\n",
    "X_test = sc.transform(X_test)"
   ]
  },
  {
   "cell_type": "markdown",
   "metadata": {},
   "source": [
    "# Round 1: Initial models"
   ]
  },
  {
   "cell_type": "code",
   "execution_count": 151,
   "metadata": {},
   "outputs": [
    {
     "data": {
      "text/plain": [
       "0.004140071215753167"
      ]
     },
     "execution_count": 151,
     "metadata": {},
     "output_type": "execute_result"
    }
   ],
   "source": [
    "lin_reg = LinearRegression()\n",
    "lin_reg.fit(X_train, y_train)\n",
    "y_pred = lin_reg.predict(X_train)\n",
    "lin_mse = mean_squared_error(y_train, y_pred)\n",
    "lin_rmse = np.sqrt(lin_mse)\n",
    "lin_rmse"
   ]
  },
  {
   "cell_type": "code",
   "execution_count": 152,
   "metadata": {},
   "outputs": [
    {
     "data": {
      "text/plain": [
       "33647586962987.21"
      ]
     },
     "execution_count": 152,
     "metadata": {},
     "output_type": "execute_result"
    }
   ],
   "source": [
    "sgd_reg = SGDRegressor(penalty=None, random_state=42, max_iter=1000, tol=1e-6)\n",
    "sgd_reg.fit(X_train, y_train)\n",
    "y_pred = sgd_reg.predict(X_train)\n",
    "sgd_mse = mean_squared_error(y_train, y_pred)\n",
    "sgd_rmse = np.sqrt(sgd_mse)\n",
    "sgd_rmse"
   ]
  },
  {
   "cell_type": "code",
   "execution_count": 153,
   "metadata": {},
   "outputs": [
    {
     "data": {
      "text/plain": [
       "0.00012917497691466843"
      ]
     },
     "execution_count": 153,
     "metadata": {},
     "output_type": "execute_result"
    }
   ],
   "source": [
    "tree_reg = DecisionTreeRegressor(random_state=42)\n",
    "tree_reg.fit(X_train, y_train)\n",
    "y_pred = tree_reg.predict(X_train)\n",
    "tree_mse = mean_squared_error(y_train, y_pred)\n",
    "tree_rmse = np.sqrt(tree_mse)\n",
    "tree_rmse"
   ]
  },
  {
   "cell_type": "code",
   "execution_count": 154,
   "metadata": {},
   "outputs": [
    {
     "data": {
      "text/plain": [
       "0.002340300949454105"
      ]
     },
     "execution_count": 154,
     "metadata": {},
     "output_type": "execute_result"
    }
   ],
   "source": [
    "forest_reg = RandomForestRegressor(random_state=42, n_estimators=100)\n",
    "forest_reg.fit(X_train, y_train)\n",
    "y_pred = forest_reg.predict(X_train)\n",
    "forest_mse = mean_squared_error(y_train, y_pred)\n",
    "forest_rmse = np.sqrt(forest_mse)\n",
    "forest_rmse"
   ]
  },
  {
   "cell_type": "code",
   "execution_count": 155,
   "metadata": {},
   "outputs": [
    {
     "data": {
      "text/plain": [
       "0.020332844894963127"
      ]
     },
     "execution_count": 155,
     "metadata": {},
     "output_type": "execute_result"
    }
   ],
   "source": [
    "svm_reg = SVR(kernel=\"linear\")\n",
    "svm_reg.fit(X_train, y_train)\n",
    "y_pred = svm_reg.predict(X_train)\n",
    "svm_mse = mean_squared_error(y_train, y_pred)\n",
    "svm_rmse = np.sqrt(svm_mse)\n",
    "svm_rmse"
   ]
  },
  {
   "cell_type": "code",
   "execution_count": 156,
   "metadata": {},
   "outputs": [],
   "source": [
    "def display_scores(scores):\n",
    "    print(\"Scores:\", scores)\n",
    "    print(\"Mean:\", scores.mean())\n",
    "    print(\"Standard deviation:\", scores.std())"
   ]
  },
  {
   "cell_type": "code",
   "execution_count": 158,
   "metadata": {},
   "outputs": [
    {
     "name": "stdout",
     "output_type": "stream",
     "text": [
      "Scores: [4.05497092e+13 3.81998264e+13 3.34757551e+13 3.52405470e+13\n",
      " 3.49680143e+13]\n",
      "Mean: 36486770386181.17\n",
      "Standard deviation: 2544324622982.565\n"
     ]
    }
   ],
   "source": [
    "sgd_scores = cross_val_score(sgd_reg, X_train, y_train, scoring=\"neg_mean_squared_error\", cv=5)\n",
    "sgd_rmse_scores = np.sqrt(-sgd_scores)\n",
    "display_scores(sgd_rmse_scores)"
   ]
  },
  {
   "cell_type": "code",
   "execution_count": 159,
   "metadata": {},
   "outputs": [
    {
     "name": "stdout",
     "output_type": "stream",
     "text": [
      "Scores: [0.00918528 0.0101558  0.00881358 0.01005301 0.00952271]\n",
      "Mean: 0.009546074769691404\n",
      "Standard deviation: 0.0005091189822011828\n"
     ]
    }
   ],
   "source": [
    "tree_scores = cross_val_score(tree_reg, X_train, y_train, scoring=\"neg_mean_squared_error\", cv=5)\n",
    "tree_rmse_scores = np.sqrt(-tree_scores)\n",
    "display_scores(tree_rmse_scores)"
   ]
  },
  {
   "cell_type": "code",
   "execution_count": 160,
   "metadata": {},
   "outputs": [
    {
     "name": "stdout",
     "output_type": "stream",
     "text": [
      "Scores: [0.00638924 0.00656604 0.00654426 0.00605505 0.00637008]\n",
      "Mean: 0.006384934146513375\n",
      "Standard deviation: 0.00018289392626348353\n"
     ]
    }
   ],
   "source": [
    "forest_scores = cross_val_score(forest_reg, X_train, y_train, scoring=\"neg_mean_squared_error\", cv=5)\n",
    "forest_rmse_scores = np.sqrt(-forest_scores)\n",
    "display_scores(forest_rmse_scores)"
   ]
  },
  {
   "cell_type": "code",
   "execution_count": 161,
   "metadata": {},
   "outputs": [
    {
     "name": "stdout",
     "output_type": "stream",
     "text": [
      "Scores: [0.02021565 0.02152241 0.02068849 0.01914122 0.02009385]\n",
      "Mean: 0.02033232339542413\n",
      "Standard deviation: 0.0007787645873246757\n"
     ]
    }
   ],
   "source": [
    "svm_scores = cross_val_score(svm_reg, X_train, y_train, scoring=\"neg_mean_squared_error\", cv=5)\n",
    "svm_rmse_scores = np.sqrt(-svm_scores)\n",
    "display_scores(svm_rmse_scores)"
   ]
  },
  {
   "cell_type": "code",
   "execution_count": 162,
   "metadata": {},
   "outputs": [
    {
     "data": {
      "image/png": "[encoded data removed]",
      "text/plain": [
       "<Figure size 576x288 with 1 Axes>"
      ]
     },
     "metadata": {
      "needs_background": "light"
     },
     "output_type": "display_data"
    }
   ],
   "source": [
    "plt.figure(figsize=(8, 4))\n",
    "plt.plot([1]*5, np.sqrt(-tree_scores), \".\")\n",
    "plt.plot([2]*5, np.sqrt(-svm_scores), \".\")\n",
    "plt.plot([3]*5, np.sqrt(-forest_scores), \".\")\n",
    "plt.plot([4]*5, np.sqrt(-sgd_scores), \".\")\n",
    "plt.boxplot([np.sqrt(-tree_scores), np.sqrt(-svm_scores), np.sqrt(-forest_scores), np.sqrt(-sgd_scores)], labels=(\"Tree\",\"SVM\", 'Forest', 'SGD'))\n",
    "plt.ylabel(\"Mean Squared Error\", fontsize=14)\n",
    "plt.show()"
   ]
  },
  {
   "cell_type": "markdown",
   "metadata": {},
   "source": [
    "# GridSearch"
   ]
  },
  {
   "cell_type": "code",
   "execution_count": 166,
   "metadata": {},
   "outputs": [
    {
     "data": {
      "text/plain": [
       "GridSearchCV(cv=5, error_score='raise-deprecating',\n",
       "             estimator=RandomForestRegressor(bootstrap=True, criterion='mse',\n",
       "                                             max_depth=None,\n",
       "                                             max_features='auto',\n",
       "                                             max_leaf_nodes=None,\n",
       "                                             min_impurity_decrease=0.0,\n",
       "                                             min_impurity_split=None,\n",
       "                                             min_samples_leaf=1,\n",
       "                                             min_samples_split=2,\n",
       "                                             min_weight_fraction_leaf=0.0,\n",
       "                                             n_estimators='warn', n_jobs=None,\n",
       "                                             oob_score=False, random_state=42,\n",
       "                                             verbose=0, warm_start=False),\n",
       "             iid='warn', n_jobs=None,\n",
       "             param_grid=[{'max_features': [30, 50, 100],\n",
       "                          'n_estimators': [30, 50, 100]},\n",
       "                         {'bootstrap': [False], 'max_features': [30, 50, 100],\n",
       "                          'n_estimators': [30, 50, 100]}],\n",
       "             pre_dispatch='2*n_jobs', refit=True, return_train_score=True,\n",
       "             scoring='neg_mean_squared_error', verbose=0)"
      ]
     },
     "execution_count": 166,
     "metadata": {},
     "output_type": "execute_result"
    }
   ],
   "source": [
    "param_grid = [\n",
    "    {'n_estimators': [30, 50, 100],\n",
    "     'max_features': [30, 50, 100]},\n",
    "    {'bootstrap': [False],\n",
    "     'n_estimators': [30, 50, 100],\n",
    "     'max_features': [30, 50, 100]},\n",
    "  ]\n",
    "\n",
    "forest_reg = RandomForestRegressor(random_state=42)\n",
    "grid_search_forest = GridSearchCV(forest_reg, param_grid, cv=5, scoring='neg_mean_squared_error', return_train_score=True)\n",
    "grid_search_forest.fit(X_train , y_train)"
   ]
  },
  {
   "cell_type": "code",
   "execution_count": 167,
   "metadata": {},
   "outputs": [
    {
     "data": {
      "text/plain": [
       "{'bootstrap': False, 'max_features': 100, 'n_estimators': 100}"
      ]
     },
     "execution_count": 167,
     "metadata": {},
     "output_type": "execute_result"
    }
   ],
   "source": [
    "grid_search_forest.best_params_"
   ]
  },
  {
   "cell_type": "code",
   "execution_count": 168,
   "metadata": {},
   "outputs": [
    {
     "data": {
      "text/plain": [
       "RandomForestRegressor(bootstrap=False, criterion='mse', max_depth=None,\n",
       "                      max_features=100, max_leaf_nodes=None,\n",
       "                      min_impurity_decrease=0.0, min_impurity_split=None,\n",
       "                      min_samples_leaf=1, min_samples_split=2,\n",
       "                      min_weight_fraction_leaf=0.0, n_estimators=100,\n",
       "                      n_jobs=None, oob_score=False, random_state=42, verbose=0,\n",
       "                      warm_start=False)"
      ]
     },
     "execution_count": 168,
     "metadata": {},
     "output_type": "execute_result"
    }
   ],
   "source": [
    "grid_search_forest.best_estimator_"
   ]
  },
  {
   "cell_type": "code",
   "execution_count": 169,
   "metadata": {},
   "outputs": [
    {
     "name": "stdout",
     "output_type": "stream",
     "text": [
      "0.006658761690232752 {'max_features': 30, 'n_estimators': 30}\n",
      "0.006562824001049824 {'max_features': 30, 'n_estimators': 50}\n",
      "0.006435021114903707 {'max_features': 30, 'n_estimators': 100}\n",
      "0.00641023033439192 {'max_features': 50, 'n_estimators': 30}\n",
      "0.0063250391444284225 {'max_features': 50, 'n_estimators': 50}\n",
      "0.006273998871679855 {'max_features': 50, 'n_estimators': 100}\n",
      "0.006314797936887527 {'max_features': 100, 'n_estimators': 30}\n",
      "0.006246277531650782 {'max_features': 100, 'n_estimators': 50}\n",
      "0.006172828482681 {'max_features': 100, 'n_estimators': 100}\n",
      "0.006467295201217485 {'bootstrap': False, 'max_features': 30, 'n_estimators': 30}\n",
      "0.006375049401328597 {'bootstrap': False, 'max_features': 30, 'n_estimators': 50}\n",
      "0.006299844056268643 {'bootstrap': False, 'max_features': 30, 'n_estimators': 100}\n",
      "0.006353846178705046 {'bootstrap': False, 'max_features': 50, 'n_estimators': 30}\n",
      "0.006236205973777533 {'bootstrap': False, 'max_features': 50, 'n_estimators': 50}\n",
      "0.006170320354726241 {'bootstrap': False, 'max_features': 50, 'n_estimators': 100}\n",
      "0.006201586169451941 {'bootstrap': False, 'max_features': 100, 'n_estimators': 30}\n",
      "0.0061054168915726315 {'bootstrap': False, 'max_features': 100, 'n_estimators': 50}\n",
      "0.006050380389394704 {'bootstrap': False, 'max_features': 100, 'n_estimators': 100}\n"
     ]
    }
   ],
   "source": [
    "cvres = grid_search_forest.cv_results_\n",
    "for mean_score, params in zip(cvres[\"mean_test_score\"], cvres[\"params\"]):\n",
    "    print(np.sqrt(-mean_score), params)"
   ]
  },
  {
   "cell_type": "markdown",
   "metadata": {},
   "source": [
    "# GridSearch"
   ]
  },
  {
   "cell_type": "code",
   "execution_count": 171,
   "metadata": {},
   "outputs": [
    {
     "name": "stdout",
     "output_type": "stream",
     "text": [
      "Fitting 5 folds for each of 12 candidates, totalling 60 fits\n"
     ]
    },
    {
     "name": "stderr",
     "output_type": "stream",
     "text": [
      "[Parallel(n_jobs=4)]: Using backend LokyBackend with 4 concurrent workers.\n",
      "[Parallel(n_jobs=4)]: Done  60 out of  60 | elapsed:    2.6s finished\n"
     ]
    },
    {
     "data": {
      "text/plain": [
       "GridSearchCV(cv=5, error_score='raise-deprecating',\n",
       "             estimator=SVR(C=1.0, cache_size=200, coef0=0.0, degree=3,\n",
       "                           epsilon=0.1, gamma='auto_deprecated', kernel='rbf',\n",
       "                           max_iter=-1, shrinking=True, tol=0.001,\n",
       "                           verbose=False),\n",
       "             iid='warn', n_jobs=4,\n",
       "             param_grid=[{'C': [0.1, 1.0, 10.0], 'kernel': ['linear']},\n",
       "                         {'C': [0.1, 1.0, 10.0], 'gamma': [0.001, 0.01, 0.1],\n",
       "                          'kernel': ['rbf']}],\n",
       "             pre_dispatch='2*n_jobs', refit=True, return_train_score=False,\n",
       "             scoring='neg_mean_squared_error', verbose=2)"
      ]
     },
     "execution_count": 171,
     "metadata": {},
     "output_type": "execute_result"
    }
   ],
   "source": [
    "param_grid = [\n",
    "        {'kernel': ['linear'], 'C': [0.1, 1.0, 10.]},\n",
    "        {'kernel': ['rbf'], 'C': [0.1, 1.0, 10.],\n",
    "         'gamma': [0.001, 0.01, 0.1]},\n",
    "    ]\n",
    "\n",
    "svm_reg = SVR()\n",
    "grid_search_svm = GridSearchCV(svm_reg, param_grid, cv=5, scoring='neg_mean_squared_error', verbose=2, n_jobs=4)\n",
    "grid_search_svm.fit(X_train, y_train)"
   ]
  },
  {
   "cell_type": "code",
   "execution_count": 172,
   "metadata": {},
   "outputs": [
    {
     "data": {
      "text/plain": [
       "{'C': 0.1, 'kernel': 'linear'}"
      ]
     },
     "execution_count": 172,
     "metadata": {},
     "output_type": "execute_result"
    }
   ],
   "source": [
    "grid_search_svm.best_params_"
   ]
  },
  {
   "cell_type": "code",
   "execution_count": 173,
   "metadata": {},
   "outputs": [
    {
     "name": "stdout",
     "output_type": "stream",
     "text": [
      "0.020347141892426927 {'C': 0.1, 'kernel': 'linear'}\n",
      "0.020347141892426927 {'C': 1.0, 'kernel': 'linear'}\n",
      "0.020347141892426927 {'C': 10.0, 'kernel': 'linear'}\n",
      "0.020347141892426927 {'C': 0.1, 'gamma': 0.001, 'kernel': 'rbf'}\n",
      "0.020347141892426927 {'C': 0.1, 'gamma': 0.01, 'kernel': 'rbf'}\n",
      "0.020347141892426927 {'C': 0.1, 'gamma': 0.1, 'kernel': 'rbf'}\n",
      "0.020347141892426927 {'C': 1.0, 'gamma': 0.001, 'kernel': 'rbf'}\n",
      "0.020347141892426927 {'C': 1.0, 'gamma': 0.01, 'kernel': 'rbf'}\n",
      "0.020347141892426927 {'C': 1.0, 'gamma': 0.1, 'kernel': 'rbf'}\n",
      "0.020347141892426927 {'C': 10.0, 'gamma': 0.001, 'kernel': 'rbf'}\n",
      "0.020347141892426927 {'C': 10.0, 'gamma': 0.01, 'kernel': 'rbf'}\n",
      "0.020347141892426927 {'C': 10.0, 'gamma': 0.1, 'kernel': 'rbf'}\n"
     ]
    }
   ],
   "source": [
    "cvres = grid_search_svm.cv_results_\n",
    "for mean_score, params in zip(cvres[\"mean_test_score\"], cvres[\"params\"]):\n",
    "    print(np.sqrt(-mean_score), params)"
   ]
  },
  {
   "cell_type": "code",
   "execution_count": 174,
   "metadata": {},
   "outputs": [
    {
     "data": {
      "text/plain": [
       "SVR(C=0.1, cache_size=200, coef0=0.0, degree=3, epsilon=0.1,\n",
       "    gamma='auto_deprecated', kernel='linear', max_iter=-1, shrinking=True,\n",
       "    tol=0.001, verbose=False)"
      ]
     },
     "execution_count": 174,
     "metadata": {},
     "output_type": "execute_result"
    }
   ],
   "source": [
    "grid_search_svm.best_estimator_"
   ]
  },
  {
   "cell_type": "markdown",
   "metadata": {},
   "source": [
    "# Feature Importance"
   ]
  },
  {
   "cell_type": "code",
   "execution_count": 175,
   "metadata": {},
   "outputs": [],
   "source": [
    "feature_importances = grid_search_forest.best_estimator_.feature_importances_"
   ]
  },
  {
   "cell_type": "code",
   "execution_count": 182,
   "metadata": {},
   "outputs": [
    {
     "data": {
      "text/plain": [
       "array([4.75371843e-03, 1.02981952e-02, 2.46629672e-02, 2.56196668e-01,\n",
       "       9.22108485e-03, 8.95261086e-02, 1.48614510e-02, 3.76074463e-03,\n",
       "       2.04968407e-02, 7.47952913e-04, 5.81312071e-03, 4.94118708e-02,\n",
       "       3.17031900e-04, 1.54245120e-01, 1.80253137e-03, 3.30427622e-04,\n",
       "       1.75089767e-02, 3.38768559e-03, 4.63541865e-03, 1.03704233e-03,\n",
       "       1.29708027e-02, 1.21670706e-02, 6.09065650e-02, 3.40592228e-03,\n",
       "       5.85423024e-03, 1.70971329e-03, 9.81328449e-05, 4.73925868e-04,\n",
       "       9.79357129e-06, 3.37656953e-04, 3.61229810e-03, 2.05067229e-03,\n",
       "       4.71375688e-03, 1.50041042e-04, 7.77533112e-05, 1.72035273e-03,\n",
       "       2.62619656e-03, 1.34130034e-04, 7.32854815e-05, 2.41128934e-04,\n",
       "       4.52437968e-04, 5.41470832e-04, 7.40067135e-04, 1.83825006e-04,\n",
       "       8.97247423e-05, 8.70557919e-04, 4.46057958e-04, 2.24821718e-04,\n",
       "       2.65911103e-04, 6.78002332e-04, 4.92263417e-06, 0.00000000e+00,\n",
       "       0.00000000e+00, 4.50183742e-04, 3.64134206e-04, 1.44282869e-04,\n",
       "       2.30486318e-05, 4.97508323e-04, 7.40882672e-04, 3.59299565e-04,\n",
       "       1.10139442e-04, 2.11801027e-05, 9.94589241e-07, 3.14857078e-05,\n",
       "       2.12914367e-04, 1.78930534e-04, 2.00121958e-04, 1.30716222e-03,\n",
       "       8.53321723e-04, 1.23281794e-04, 6.21052707e-04, 4.30157396e-04,\n",
       "       1.33802841e-04, 3.49574986e-04, 1.62393956e-05, 1.74713556e-04,\n",
       "       1.63976832e-04, 1.82088838e-04, 8.71640292e-04, 1.98821018e-04,\n",
       "       3.08145303e-04, 1.04759562e-04, 2.79509528e-04, 1.03600133e-04,\n",
       "       6.29826835e-05, 2.25499250e-05, 4.03541605e-04, 3.10839651e-04,\n",
       "       6.05581680e-04, 2.72617246e-05, 8.41258056e-05, 1.12346663e-04,\n",
       "       1.09219500e-04, 2.56810339e-06, 5.58544162e-06, 5.74471105e-05,\n",
       "       8.63062437e-05, 8.76359836e-05, 5.56709162e-06, 0.00000000e+00,\n",
       "       2.44783784e-08, 4.45025575e-09, 2.64472615e-06, 1.03690138e-03,\n",
       "       7.79143016e-05, 1.36748369e-04, 8.32335267e-05, 1.06346709e-04,\n",
       "       5.39096488e-04, 7.05773161e-05, 8.36555963e-04, 1.50371235e-05,\n",
       "       3.75055308e-05, 7.18460070e-04, 4.23271621e-05, 1.90835087e-04,\n",
       "       1.69375635e-04, 1.01246366e-03, 1.99325577e-04, 4.09738865e-04,\n",
       "       2.01074668e-06, 4.17519855e-07, 2.06097102e-04, 2.02857309e-05,\n",
       "       3.63118104e-06, 0.00000000e+00, 3.86696897e-05, 9.72925980e-06,\n",
       "       4.18549635e-05, 1.14497409e-04, 1.53510787e-05, 5.62758584e-04,\n",
       "       4.47628710e-04, 1.67592214e-06, 2.01920913e-04, 2.15367558e-04,\n",
       "       1.48595935e-08, 3.92933009e-04, 2.66158974e-04, 5.83467958e-06,\n",
       "       1.08111096e-04, 7.28063131e-04, 4.87942653e-04, 7.89010743e-05,\n",
       "       8.81926014e-05, 2.20896405e-05, 5.20499574e-04, 1.61769463e-04,\n",
       "       6.42878020e-07, 2.39623970e-04, 2.65994573e-04, 5.41738518e-06,\n",
       "       3.68757076e-04, 2.15569595e-06, 3.18541533e-04, 1.20726809e-05,\n",
       "       1.29739477e-04, 8.03425676e-04, 4.34019327e-04, 1.18866554e-04,\n",
       "       2.27591670e-04, 3.31167393e-04, 3.80478378e-04, 3.29189652e-04,\n",
       "       3.18389775e-03, 3.01678295e-04, 7.45633730e-03, 6.30894681e-02,\n",
       "       4.20314075e-06, 1.32769107e-03, 3.70514212e-04, 2.02065572e-05,\n",
       "       6.55042279e-04, 4.29063090e-04, 4.49876118e-04, 4.39115247e-04,\n",
       "       7.38059849e-05, 4.51208151e-06, 6.51672183e-06, 9.11981864e-03,\n",
       "       2.20159961e-04, 1.95741993e-03, 2.24643139e-04, 3.10468512e-03,\n",
       "       4.47813216e-04, 1.58586912e-04, 2.54551058e-04, 4.29442986e-05,\n",
       "       5.36248293e-04, 2.75376894e-04, 1.13936892e-03, 3.48529036e-04,\n",
       "       8.18156320e-04, 2.11613629e-04, 5.08698733e-04, 2.35788535e-04,\n",
       "       8.40906610e-04, 2.54765176e-04, 2.62664384e-04, 3.91530477e-04,\n",
       "       1.03873397e-03, 3.64599748e-05, 2.59733566e-04, 3.55240085e-05,\n",
       "       7.75174381e-05, 1.38838657e-04, 8.18650624e-05, 2.90329039e-04,\n",
       "       6.59162311e-06, 2.66343850e-04, 8.43406131e-05, 1.64257716e-04,\n",
       "       9.03778289e-06, 2.16382735e-06, 4.90947442e-04, 3.70850045e-04,\n",
       "       4.36783452e-04, 1.74660240e-07, 5.57120039e-04, 1.26129759e-02,\n",
       "       1.22933407e-02, 3.33096081e-04, 1.42989376e-04, 2.96597358e-05,\n",
       "       1.18734750e-05, 5.38801077e-06, 4.98890782e-04, 3.09727620e-03,\n",
       "       2.51288875e-04, 1.72097329e-03, 6.80332198e-03, 6.15453966e-05,\n",
       "       6.40751267e-04, 8.28997460e-05, 1.12401770e-04, 4.15111437e-04,\n",
       "       4.32547557e-05, 8.47953168e-04, 6.02798745e-05, 2.70488861e-05,\n",
       "       6.97318174e-04, 1.27562996e-02, 2.57760177e-04, 2.92932150e-04,\n",
       "       2.63415632e-05, 4.51594165e-03, 1.15560176e-04, 3.41968236e-04,\n",
       "       2.43130641e-04, 2.63903304e-03, 4.60788040e-04, 4.61780425e-04,\n",
       "       6.92405590e-04, 5.14454992e-04, 1.57938770e-03, 5.19031505e-06,\n",
       "       2.55857001e-04, 6.44978516e-05, 4.86228602e-04, 4.31432857e-05,\n",
       "       1.73070197e-03, 1.78531845e-06, 1.71976259e-04, 9.25287582e-06,\n",
       "       6.97886323e-04, 4.15342806e-05, 1.88377359e-03, 1.10982702e-03,\n",
       "       2.45301845e-04, 4.66569442e-04, 3.18898949e-06, 1.62694795e-07,\n",
       "       2.71975140e-05, 2.36751771e-05, 1.49359478e-04, 6.50599996e-04,\n",
       "       3.45875752e-04, 5.98502373e-06, 8.89955029e-04, 3.22565143e-06,\n",
       "       1.35738243e-04, 5.54887141e-05, 6.92803189e-05, 2.16275965e-06,\n",
       "       1.45903299e-04, 3.10818520e-05, 4.56390564e-06, 3.50957694e-05,\n",
       "       1.35448144e-05, 2.48244370e-05, 2.42051467e-04, 2.11202345e-05,\n",
       "       4.51267609e-04, 1.17206224e-03, 3.03368657e-05, 2.17921341e-04,\n",
       "       6.64120445e-04, 1.09528745e-03, 2.92258073e-04])"
      ]
     },
     "execution_count": 182,
     "metadata": {},
     "output_type": "execute_result"
    }
   ],
   "source": [
    "feature_importances"
   ]
  },
  {
   "cell_type": "code",
   "execution_count": 196,
   "metadata": {},
   "outputs": [],
   "source": [
    "results = grid_search_svm.best_estimator_.predict(X_test)"
   ]
  },
  {
   "cell_type": "code",
   "execution_count": 210,
   "metadata": {},
   "outputs": [
    {
     "data": {
      "text/plain": [
       "array([1.136794, 1.136794, 1.136794, ..., 1.136794, 1.136794, 1.136794])"
      ]
     },
     "execution_count": 210,
     "metadata": {},
     "output_type": "execute_result"
    }
   ],
   "source": [
    "results"
   ]
  },
  {
   "cell_type": "code",
   "execution_count": 208,
   "metadata": {},
   "outputs": [],
   "source": [
    "solution = pd.DataFrame({'Id':test.index, 'SalePrice':results})\n",
    "solution.to_csv('DSKHouseprice.csv', index=False)"
   ]
  },
  {
   "cell_type": "code",
   "execution_count": 209,
   "metadata": {},
   "outputs": [
    {
     "data": {
      "text/html": [
       "<div>\n",
       "<style scoped>\n",
       "    .dataframe tbody tr th:only-of-type {\n",
       "        vertical-align: middle;\n",
       "    }\n",
       "\n",
       "    .dataframe tbody tr th {\n",
       "        vertical-align: top;\n",
       "    }\n",
       "\n",
       "    .dataframe thead th {\n",
       "        text-align: right;\n",
       "    }\n",
       "</style>\n",
       "<table border=\"1\" class=\"dataframe\">\n",
       "  <thead>\n",
       "    <tr style=\"text-align: right;\">\n",
       "      <th></th>\n",
       "      <th>Id</th>\n",
       "      <th>SalePrice</th>\n",
       "    </tr>\n",
       "  </thead>\n",
       "  <tbody>\n",
       "    <tr>\n",
       "      <td>0</td>\n",
       "      <td>0</td>\n",
       "      <td>1.136794</td>\n",
       "    </tr>\n",
       "    <tr>\n",
       "      <td>1</td>\n",
       "      <td>1</td>\n",
       "      <td>1.136794</td>\n",
       "    </tr>\n",
       "    <tr>\n",
       "      <td>2</td>\n",
       "      <td>2</td>\n",
       "      <td>1.136794</td>\n",
       "    </tr>\n",
       "    <tr>\n",
       "      <td>3</td>\n",
       "      <td>3</td>\n",
       "      <td>1.136794</td>\n",
       "    </tr>\n",
       "    <tr>\n",
       "      <td>4</td>\n",
       "      <td>4</td>\n",
       "      <td>1.136794</td>\n",
       "    </tr>\n",
       "    <tr>\n",
       "      <td>...</td>\n",
       "      <td>...</td>\n",
       "      <td>...</td>\n",
       "    </tr>\n",
       "    <tr>\n",
       "      <td>1454</td>\n",
       "      <td>1454</td>\n",
       "      <td>1.136794</td>\n",
       "    </tr>\n",
       "    <tr>\n",
       "      <td>1455</td>\n",
       "      <td>1455</td>\n",
       "      <td>1.136794</td>\n",
       "    </tr>\n",
       "    <tr>\n",
       "      <td>1456</td>\n",
       "      <td>1456</td>\n",
       "      <td>1.136794</td>\n",
       "    </tr>\n",
       "    <tr>\n",
       "      <td>1457</td>\n",
       "      <td>1457</td>\n",
       "      <td>1.136794</td>\n",
       "    </tr>\n",
       "    <tr>\n",
       "      <td>1458</td>\n",
       "      <td>1458</td>\n",
       "      <td>1.136794</td>\n",
       "    </tr>\n",
       "  </tbody>\n",
       "</table>\n",
       "<p>1459 rows × 2 columns</p>\n",
       "</div>"
      ],
      "text/plain": [
       "        Id  SalePrice\n",
       "0        0   1.136794\n",
       "1        1   1.136794\n",
       "2        2   1.136794\n",
       "3        3   1.136794\n",
       "4        4   1.136794\n",
       "...    ...        ...\n",
       "1454  1454   1.136794\n",
       "1455  1455   1.136794\n",
       "1456  1456   1.136794\n",
       "1457  1457   1.136794\n",
       "1458  1458   1.136794\n",
       "\n",
       "[1459 rows x 2 columns]"
      ]
     },
     "execution_count": 209,
     "metadata": {},
     "output_type": "execute_result"
    }
   ],
   "source": [
    "solution"
   ]
  },
  {
   "cell_type": "code",
   "execution_count": null,
   "metadata": {},
   "outputs": [],
   "source": []
  }
 ],
 "metadata": {
  "kernelspec": {
   "display_name": "Python 3",
   "language": "python",
   "name": "python3"
  },
  "language_info": {
   "codemirror_mode": {
    "name": "ipython",
    "version": 3
   },
   "file_extension": ".py",
   "mimetype": "text/x-python",
   "name": "python",
   "nbconvert_exporter": "python",
   "pygments_lexer": "ipython3",
   "version": "3.7.4"
  }
 },
 "nbformat": 4,
 "nbformat_minor": 4
}
