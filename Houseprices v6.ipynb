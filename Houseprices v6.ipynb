{
 "cells": [
  {
   "cell_type": "code",
   "execution_count": 155,
   "metadata": {},
   "outputs": [],
   "source": [
    "%matplotlib inline\n",
    "\n",
    "import pandas as pd\n",
    "import numpy as np\n",
    "import matplotlib.pyplot as plt\n",
    "import seaborn as sns\n",
    "\n",
    "from scipy import stats\n",
    "from scipy.stats import skew, kurtosis, mode, zscore, norm\n",
    "from scipy.special import boxcox1p\n",
    "\n",
    "# Pipeline and machine learning algorithms\n",
    "from sklearn.preprocessing import StandardScaler, LabelEncoder, RobustScaler\n",
    "from sklearn.ensemble import RandomForestRegressor,  GradientBoostingRegressor\n",
    "from sklearn.model_selection import KFold, cross_val_score,GridSearchCV, RandomizedSearchCV\n",
    "from sklearn.metrics import mean_squared_error, make_scorer\n",
    "from sklearn.kernel_ridge import KernelRidge\n",
    "from sklearn.pipeline import make_pipeline\n",
    "from sklearn.svm import SVR\n",
    "from sklearn.linear_model import LinearRegression, Lasso, Ridge,ElasticNet\n",
    "\n",
    "from xgboost import XGBRegressor\n",
    "from lightgbm import LGBMRegressor\n",
    "\n",
    "import warnings\n",
    "warnings.filterwarnings('ignore')"
   ]
  },
  {
   "cell_type": "code",
   "execution_count": 156,
   "metadata": {},
   "outputs": [],
   "source": [
    "# It is your job to predict the sales price for each house. \n",
    "# For each Id in the test set, you must predict the value of the SalePrice variable. "
   ]
  },
  {
   "cell_type": "markdown",
   "metadata": {},
   "source": [
    "# Load Data and Explore\n",
    "\n",
    "Join Train and Test set so changes are made on both"
   ]
  },
  {
   "cell_type": "code",
   "execution_count": 157,
   "metadata": {},
   "outputs": [],
   "source": [
    "train=pd.read_csv(\"train.csv\")\n",
    "test=pd.read_csv(\"test.csv\")\n",
    "test2=pd.read_csv(\"test.csv\")\n"
   ]
  },
  {
   "cell_type": "code",
   "execution_count": 158,
   "metadata": {},
   "outputs": [],
   "source": [
    "# delteing the outliers, this should be done later but I forgot\n",
    "\n",
    "train[(train['GrLivArea']>4000) & (train['SalePrice']<300000)]\n",
    "train = train.drop(train[(train['GrLivArea']>4000) & (train['SalePrice']<300000)].index)"
   ]
  },
  {
   "cell_type": "code",
   "execution_count": 159,
   "metadata": {},
   "outputs": [
    {
     "name": "stdout",
     "output_type": "stream",
     "text": [
      "(1458, 81)\n",
      "(1459, 80)\n"
     ]
    }
   ],
   "source": [
    "len_train=train.shape[0]\n",
    "houses=pd.concat([train,test], sort=False)\n",
    "print(train.shape)\n",
    "print(test.shape)"
   ]
  },
  {
   "cell_type": "markdown",
   "metadata": {},
   "source": [
    "# Exploratory data analysis (EDA)"
   ]
  },
  {
   "cell_type": "code",
   "execution_count": 160,
   "metadata": {},
   "outputs": [
    {
     "data": {
      "text/plain": [
       "Index(['Id', 'MSSubClass', 'MSZoning', 'LotFrontage', 'LotArea', 'Street',\n",
       "       'Alley', 'LotShape', 'LandContour', 'Utilities', 'LotConfig',\n",
       "       'LandSlope', 'Neighborhood', 'Condition1', 'Condition2', 'BldgType',\n",
       "       'HouseStyle', 'OverallQual', 'OverallCond', 'YearBuilt', 'YearRemodAdd',\n",
       "       'RoofStyle', 'RoofMatl', 'Exterior1st', 'Exterior2nd', 'MasVnrType',\n",
       "       'MasVnrArea', 'ExterQual', 'ExterCond', 'Foundation', 'BsmtQual',\n",
       "       'BsmtCond', 'BsmtExposure', 'BsmtFinType1', 'BsmtFinSF1',\n",
       "       'BsmtFinType2', 'BsmtFinSF2', 'BsmtUnfSF', 'TotalBsmtSF', 'Heating',\n",
       "       'HeatingQC', 'CentralAir', 'Electrical', '1stFlrSF', '2ndFlrSF',\n",
       "       'LowQualFinSF', 'GrLivArea', 'BsmtFullBath', 'BsmtHalfBath', 'FullBath',\n",
       "       'HalfBath', 'BedroomAbvGr', 'KitchenAbvGr', 'KitchenQual',\n",
       "       'TotRmsAbvGrd', 'Functional', 'Fireplaces', 'FireplaceQu', 'GarageType',\n",
       "       'GarageYrBlt', 'GarageFinish', 'GarageCars', 'GarageArea', 'GarageQual',\n",
       "       'GarageCond', 'PavedDrive', 'WoodDeckSF', 'OpenPorchSF',\n",
       "       'EnclosedPorch', '3SsnPorch', 'ScreenPorch', 'PoolArea', 'PoolQC',\n",
       "       'Fence', 'MiscFeature', 'MiscVal', 'MoSold', 'YrSold', 'SaleType',\n",
       "       'SaleCondition', 'SalePrice'],\n",
       "      dtype='object')"
      ]
     },
     "execution_count": 160,
     "metadata": {},
     "output_type": "execute_result"
    }
   ],
   "source": [
    "train.columns"
   ]
  },
  {
   "cell_type": "code",
   "execution_count": 161,
   "metadata": {},
   "outputs": [
    {
     "name": "stdout",
     "output_type": "stream",
     "text": [
      "<class 'pandas.core.frame.DataFrame'>\n",
      "Int64Index: 1458 entries, 0 to 1459\n",
      "Data columns (total 81 columns):\n",
      " #   Column         Non-Null Count  Dtype  \n",
      "---  ------         --------------  -----  \n",
      " 0   Id             1458 non-null   int64  \n",
      " 1   MSSubClass     1458 non-null   int64  \n",
      " 2   MSZoning       1458 non-null   object \n",
      " 3   LotFrontage    1199 non-null   float64\n",
      " 4   LotArea        1458 non-null   int64  \n",
      " 5   Street         1458 non-null   object \n",
      " 6   Alley          91 non-null     object \n",
      " 7   LotShape       1458 non-null   object \n",
      " 8   LandContour    1458 non-null   object \n",
      " 9   Utilities      1458 non-null   object \n",
      " 10  LotConfig      1458 non-null   object \n",
      " 11  LandSlope      1458 non-null   object \n",
      " 12  Neighborhood   1458 non-null   object \n",
      " 13  Condition1     1458 non-null   object \n",
      " 14  Condition2     1458 non-null   object \n",
      " 15  BldgType       1458 non-null   object \n",
      " 16  HouseStyle     1458 non-null   object \n",
      " 17  OverallQual    1458 non-null   int64  \n",
      " 18  OverallCond    1458 non-null   int64  \n",
      " 19  YearBuilt      1458 non-null   int64  \n",
      " 20  YearRemodAdd   1458 non-null   int64  \n",
      " 21  RoofStyle      1458 non-null   object \n",
      " 22  RoofMatl       1458 non-null   object \n",
      " 23  Exterior1st    1458 non-null   object \n",
      " 24  Exterior2nd    1458 non-null   object \n",
      " 25  MasVnrType     1450 non-null   object \n",
      " 26  MasVnrArea     1450 non-null   float64\n",
      " 27  ExterQual      1458 non-null   object \n",
      " 28  ExterCond      1458 non-null   object \n",
      " 29  Foundation     1458 non-null   object \n",
      " 30  BsmtQual       1421 non-null   object \n",
      " 31  BsmtCond       1421 non-null   object \n",
      " 32  BsmtExposure   1420 non-null   object \n",
      " 33  BsmtFinType1   1421 non-null   object \n",
      " 34  BsmtFinSF1     1458 non-null   int64  \n",
      " 35  BsmtFinType2   1420 non-null   object \n",
      " 36  BsmtFinSF2     1458 non-null   int64  \n",
      " 37  BsmtUnfSF      1458 non-null   int64  \n",
      " 38  TotalBsmtSF    1458 non-null   int64  \n",
      " 39  Heating        1458 non-null   object \n",
      " 40  HeatingQC      1458 non-null   object \n",
      " 41  CentralAir     1458 non-null   object \n",
      " 42  Electrical     1457 non-null   object \n",
      " 43  1stFlrSF       1458 non-null   int64  \n",
      " 44  2ndFlrSF       1458 non-null   int64  \n",
      " 45  LowQualFinSF   1458 non-null   int64  \n",
      " 46  GrLivArea      1458 non-null   int64  \n",
      " 47  BsmtFullBath   1458 non-null   int64  \n",
      " 48  BsmtHalfBath   1458 non-null   int64  \n",
      " 49  FullBath       1458 non-null   int64  \n",
      " 50  HalfBath       1458 non-null   int64  \n",
      " 51  BedroomAbvGr   1458 non-null   int64  \n",
      " 52  KitchenAbvGr   1458 non-null   int64  \n",
      " 53  KitchenQual    1458 non-null   object \n",
      " 54  TotRmsAbvGrd   1458 non-null   int64  \n",
      " 55  Functional     1458 non-null   object \n",
      " 56  Fireplaces     1458 non-null   int64  \n",
      " 57  FireplaceQu    768 non-null    object \n",
      " 58  GarageType     1377 non-null   object \n",
      " 59  GarageYrBlt    1377 non-null   float64\n",
      " 60  GarageFinish   1377 non-null   object \n",
      " 61  GarageCars     1458 non-null   int64  \n",
      " 62  GarageArea     1458 non-null   int64  \n",
      " 63  GarageQual     1377 non-null   object \n",
      " 64  GarageCond     1377 non-null   object \n",
      " 65  PavedDrive     1458 non-null   object \n",
      " 66  WoodDeckSF     1458 non-null   int64  \n",
      " 67  OpenPorchSF    1458 non-null   int64  \n",
      " 68  EnclosedPorch  1458 non-null   int64  \n",
      " 69  3SsnPorch      1458 non-null   int64  \n",
      " 70  ScreenPorch    1458 non-null   int64  \n",
      " 71  PoolArea       1458 non-null   int64  \n",
      " 72  PoolQC         6 non-null      object \n",
      " 73  Fence          281 non-null    object \n",
      " 74  MiscFeature    54 non-null     object \n",
      " 75  MiscVal        1458 non-null   int64  \n",
      " 76  MoSold         1458 non-null   int64  \n",
      " 77  YrSold         1458 non-null   int64  \n",
      " 78  SaleType       1458 non-null   object \n",
      " 79  SaleCondition  1458 non-null   object \n",
      " 80  SalePrice      1458 non-null   int64  \n",
      "dtypes: float64(3), int64(35), object(43)\n",
      "memory usage: 934.0+ KB\n"
     ]
    }
   ],
   "source": [
    "train.info()"
   ]
  },
  {
   "cell_type": "code",
   "execution_count": 162,
   "metadata": {},
   "outputs": [
    {
     "name": "stdout",
     "output_type": "stream",
     "text": [
      "<class 'pandas.core.frame.DataFrame'>\n",
      "Int64Index: 2917 entries, 0 to 1458\n",
      "Data columns (total 81 columns):\n",
      " #   Column         Non-Null Count  Dtype  \n",
      "---  ------         --------------  -----  \n",
      " 0   Id             2917 non-null   int64  \n",
      " 1   MSSubClass     2917 non-null   int64  \n",
      " 2   MSZoning       2913 non-null   object \n",
      " 3   LotFrontage    2431 non-null   float64\n",
      " 4   LotArea        2917 non-null   int64  \n",
      " 5   Street         2917 non-null   object \n",
      " 6   Alley          198 non-null    object \n",
      " 7   LotShape       2917 non-null   object \n",
      " 8   LandContour    2917 non-null   object \n",
      " 9   Utilities      2915 non-null   object \n",
      " 10  LotConfig      2917 non-null   object \n",
      " 11  LandSlope      2917 non-null   object \n",
      " 12  Neighborhood   2917 non-null   object \n",
      " 13  Condition1     2917 non-null   object \n",
      " 14  Condition2     2917 non-null   object \n",
      " 15  BldgType       2917 non-null   object \n",
      " 16  HouseStyle     2917 non-null   object \n",
      " 17  OverallQual    2917 non-null   int64  \n",
      " 18  OverallCond    2917 non-null   int64  \n",
      " 19  YearBuilt      2917 non-null   int64  \n",
      " 20  YearRemodAdd   2917 non-null   int64  \n",
      " 21  RoofStyle      2917 non-null   object \n",
      " 22  RoofMatl       2917 non-null   object \n",
      " 23  Exterior1st    2916 non-null   object \n",
      " 24  Exterior2nd    2916 non-null   object \n",
      " 25  MasVnrType     2893 non-null   object \n",
      " 26  MasVnrArea     2894 non-null   float64\n",
      " 27  ExterQual      2917 non-null   object \n",
      " 28  ExterCond      2917 non-null   object \n",
      " 29  Foundation     2917 non-null   object \n",
      " 30  BsmtQual       2836 non-null   object \n",
      " 31  BsmtCond       2835 non-null   object \n",
      " 32  BsmtExposure   2835 non-null   object \n",
      " 33  BsmtFinType1   2838 non-null   object \n",
      " 34  BsmtFinSF1     2916 non-null   float64\n",
      " 35  BsmtFinType2   2837 non-null   object \n",
      " 36  BsmtFinSF2     2916 non-null   float64\n",
      " 37  BsmtUnfSF      2916 non-null   float64\n",
      " 38  TotalBsmtSF    2916 non-null   float64\n",
      " 39  Heating        2917 non-null   object \n",
      " 40  HeatingQC      2917 non-null   object \n",
      " 41  CentralAir     2917 non-null   object \n",
      " 42  Electrical     2916 non-null   object \n",
      " 43  1stFlrSF       2917 non-null   int64  \n",
      " 44  2ndFlrSF       2917 non-null   int64  \n",
      " 45  LowQualFinSF   2917 non-null   int64  \n",
      " 46  GrLivArea      2917 non-null   int64  \n",
      " 47  BsmtFullBath   2915 non-null   float64\n",
      " 48  BsmtHalfBath   2915 non-null   float64\n",
      " 49  FullBath       2917 non-null   int64  \n",
      " 50  HalfBath       2917 non-null   int64  \n",
      " 51  BedroomAbvGr   2917 non-null   int64  \n",
      " 52  KitchenAbvGr   2917 non-null   int64  \n",
      " 53  KitchenQual    2916 non-null   object \n",
      " 54  TotRmsAbvGrd   2917 non-null   int64  \n",
      " 55  Functional     2915 non-null   object \n",
      " 56  Fireplaces     2917 non-null   int64  \n",
      " 57  FireplaceQu    1497 non-null   object \n",
      " 58  GarageType     2760 non-null   object \n",
      " 59  GarageYrBlt    2758 non-null   float64\n",
      " 60  GarageFinish   2758 non-null   object \n",
      " 61  GarageCars     2916 non-null   float64\n",
      " 62  GarageArea     2916 non-null   float64\n",
      " 63  GarageQual     2758 non-null   object \n",
      " 64  GarageCond     2758 non-null   object \n",
      " 65  PavedDrive     2917 non-null   object \n",
      " 66  WoodDeckSF     2917 non-null   int64  \n",
      " 67  OpenPorchSF    2917 non-null   int64  \n",
      " 68  EnclosedPorch  2917 non-null   int64  \n",
      " 69  3SsnPorch      2917 non-null   int64  \n",
      " 70  ScreenPorch    2917 non-null   int64  \n",
      " 71  PoolArea       2917 non-null   int64  \n",
      " 72  PoolQC         9 non-null      object \n",
      " 73  Fence          571 non-null    object \n",
      " 74  MiscFeature    105 non-null    object \n",
      " 75  MiscVal        2917 non-null   int64  \n",
      " 76  MoSold         2917 non-null   int64  \n",
      " 77  YrSold         2917 non-null   int64  \n",
      " 78  SaleType       2916 non-null   object \n",
      " 79  SaleCondition  2917 non-null   object \n",
      " 80  SalePrice      1458 non-null   float64\n",
      "dtypes: float64(12), int64(26), object(43)\n",
      "memory usage: 1.8+ MB\n"
     ]
    }
   ],
   "source": [
    "houses.info()"
   ]
  },
  {
   "cell_type": "code",
   "execution_count": 163,
   "metadata": {},
   "outputs": [
    {
     "data": {
      "text/html": [
       "<div>\n",
       "<style scoped>\n",
       "    .dataframe tbody tr th:only-of-type {\n",
       "        vertical-align: middle;\n",
       "    }\n",
       "\n",
       "    .dataframe tbody tr th {\n",
       "        vertical-align: top;\n",
       "    }\n",
       "\n",
       "    .dataframe thead th {\n",
       "        text-align: right;\n",
       "    }\n",
       "</style>\n",
       "<table border=\"1\" class=\"dataframe\">\n",
       "  <thead>\n",
       "    <tr style=\"text-align: right;\">\n",
       "      <th></th>\n",
       "      <th>MSZoning</th>\n",
       "      <th>Street</th>\n",
       "      <th>Alley</th>\n",
       "      <th>LotShape</th>\n",
       "      <th>LandContour</th>\n",
       "      <th>Utilities</th>\n",
       "      <th>LotConfig</th>\n",
       "      <th>LandSlope</th>\n",
       "      <th>Neighborhood</th>\n",
       "      <th>Condition1</th>\n",
       "      <th>...</th>\n",
       "      <th>GarageType</th>\n",
       "      <th>GarageFinish</th>\n",
       "      <th>GarageQual</th>\n",
       "      <th>GarageCond</th>\n",
       "      <th>PavedDrive</th>\n",
       "      <th>PoolQC</th>\n",
       "      <th>Fence</th>\n",
       "      <th>MiscFeature</th>\n",
       "      <th>SaleType</th>\n",
       "      <th>SaleCondition</th>\n",
       "    </tr>\n",
       "  </thead>\n",
       "  <tbody>\n",
       "    <tr>\n",
       "      <th>0</th>\n",
       "      <td>RL</td>\n",
       "      <td>Pave</td>\n",
       "      <td>NaN</td>\n",
       "      <td>Reg</td>\n",
       "      <td>Lvl</td>\n",
       "      <td>AllPub</td>\n",
       "      <td>Inside</td>\n",
       "      <td>Gtl</td>\n",
       "      <td>CollgCr</td>\n",
       "      <td>Norm</td>\n",
       "      <td>...</td>\n",
       "      <td>Attchd</td>\n",
       "      <td>RFn</td>\n",
       "      <td>TA</td>\n",
       "      <td>TA</td>\n",
       "      <td>Y</td>\n",
       "      <td>NaN</td>\n",
       "      <td>NaN</td>\n",
       "      <td>NaN</td>\n",
       "      <td>WD</td>\n",
       "      <td>Normal</td>\n",
       "    </tr>\n",
       "    <tr>\n",
       "      <th>1</th>\n",
       "      <td>RL</td>\n",
       "      <td>Pave</td>\n",
       "      <td>NaN</td>\n",
       "      <td>Reg</td>\n",
       "      <td>Lvl</td>\n",
       "      <td>AllPub</td>\n",
       "      <td>FR2</td>\n",
       "      <td>Gtl</td>\n",
       "      <td>Veenker</td>\n",
       "      <td>Feedr</td>\n",
       "      <td>...</td>\n",
       "      <td>Attchd</td>\n",
       "      <td>RFn</td>\n",
       "      <td>TA</td>\n",
       "      <td>TA</td>\n",
       "      <td>Y</td>\n",
       "      <td>NaN</td>\n",
       "      <td>NaN</td>\n",
       "      <td>NaN</td>\n",
       "      <td>WD</td>\n",
       "      <td>Normal</td>\n",
       "    </tr>\n",
       "    <tr>\n",
       "      <th>2</th>\n",
       "      <td>RL</td>\n",
       "      <td>Pave</td>\n",
       "      <td>NaN</td>\n",
       "      <td>IR1</td>\n",
       "      <td>Lvl</td>\n",
       "      <td>AllPub</td>\n",
       "      <td>Inside</td>\n",
       "      <td>Gtl</td>\n",
       "      <td>CollgCr</td>\n",
       "      <td>Norm</td>\n",
       "      <td>...</td>\n",
       "      <td>Attchd</td>\n",
       "      <td>RFn</td>\n",
       "      <td>TA</td>\n",
       "      <td>TA</td>\n",
       "      <td>Y</td>\n",
       "      <td>NaN</td>\n",
       "      <td>NaN</td>\n",
       "      <td>NaN</td>\n",
       "      <td>WD</td>\n",
       "      <td>Normal</td>\n",
       "    </tr>\n",
       "    <tr>\n",
       "      <th>3</th>\n",
       "      <td>RL</td>\n",
       "      <td>Pave</td>\n",
       "      <td>NaN</td>\n",
       "      <td>IR1</td>\n",
       "      <td>Lvl</td>\n",
       "      <td>AllPub</td>\n",
       "      <td>Corner</td>\n",
       "      <td>Gtl</td>\n",
       "      <td>Crawfor</td>\n",
       "      <td>Norm</td>\n",
       "      <td>...</td>\n",
       "      <td>Detchd</td>\n",
       "      <td>Unf</td>\n",
       "      <td>TA</td>\n",
       "      <td>TA</td>\n",
       "      <td>Y</td>\n",
       "      <td>NaN</td>\n",
       "      <td>NaN</td>\n",
       "      <td>NaN</td>\n",
       "      <td>WD</td>\n",
       "      <td>Abnorml</td>\n",
       "    </tr>\n",
       "    <tr>\n",
       "      <th>4</th>\n",
       "      <td>RL</td>\n",
       "      <td>Pave</td>\n",
       "      <td>NaN</td>\n",
       "      <td>IR1</td>\n",
       "      <td>Lvl</td>\n",
       "      <td>AllPub</td>\n",
       "      <td>FR2</td>\n",
       "      <td>Gtl</td>\n",
       "      <td>NoRidge</td>\n",
       "      <td>Norm</td>\n",
       "      <td>...</td>\n",
       "      <td>Attchd</td>\n",
       "      <td>RFn</td>\n",
       "      <td>TA</td>\n",
       "      <td>TA</td>\n",
       "      <td>Y</td>\n",
       "      <td>NaN</td>\n",
       "      <td>NaN</td>\n",
       "      <td>NaN</td>\n",
       "      <td>WD</td>\n",
       "      <td>Normal</td>\n",
       "    </tr>\n",
       "  </tbody>\n",
       "</table>\n",
       "<p>5 rows × 43 columns</p>\n",
       "</div>"
      ],
      "text/plain": [
       "  MSZoning Street Alley LotShape LandContour Utilities LotConfig LandSlope  \\\n",
       "0       RL   Pave   NaN      Reg         Lvl    AllPub    Inside       Gtl   \n",
       "1       RL   Pave   NaN      Reg         Lvl    AllPub       FR2       Gtl   \n",
       "2       RL   Pave   NaN      IR1         Lvl    AllPub    Inside       Gtl   \n",
       "3       RL   Pave   NaN      IR1         Lvl    AllPub    Corner       Gtl   \n",
       "4       RL   Pave   NaN      IR1         Lvl    AllPub       FR2       Gtl   \n",
       "\n",
       "  Neighborhood Condition1  ... GarageType GarageFinish GarageQual GarageCond  \\\n",
       "0      CollgCr       Norm  ...     Attchd          RFn         TA         TA   \n",
       "1      Veenker      Feedr  ...     Attchd          RFn         TA         TA   \n",
       "2      CollgCr       Norm  ...     Attchd          RFn         TA         TA   \n",
       "3      Crawfor       Norm  ...     Detchd          Unf         TA         TA   \n",
       "4      NoRidge       Norm  ...     Attchd          RFn         TA         TA   \n",
       "\n",
       "  PavedDrive PoolQC Fence MiscFeature SaleType SaleCondition  \n",
       "0          Y    NaN   NaN         NaN       WD        Normal  \n",
       "1          Y    NaN   NaN         NaN       WD        Normal  \n",
       "2          Y    NaN   NaN         NaN       WD        Normal  \n",
       "3          Y    NaN   NaN         NaN       WD       Abnorml  \n",
       "4          Y    NaN   NaN         NaN       WD        Normal  \n",
       "\n",
       "[5 rows x 43 columns]"
      ]
     },
     "execution_count": 163,
     "metadata": {},
     "output_type": "execute_result"
    }
   ],
   "source": [
    "houses.select_dtypes(include='object').head()"
   ]
  },
  {
   "cell_type": "code",
   "execution_count": 164,
   "metadata": {},
   "outputs": [
    {
     "data": {
      "text/html": [
       "<div>\n",
       "<style scoped>\n",
       "    .dataframe tbody tr th:only-of-type {\n",
       "        vertical-align: middle;\n",
       "    }\n",
       "\n",
       "    .dataframe tbody tr th {\n",
       "        vertical-align: top;\n",
       "    }\n",
       "\n",
       "    .dataframe thead th {\n",
       "        text-align: right;\n",
       "    }\n",
       "</style>\n",
       "<table border=\"1\" class=\"dataframe\">\n",
       "  <thead>\n",
       "    <tr style=\"text-align: right;\">\n",
       "      <th></th>\n",
       "      <th>Id</th>\n",
       "      <th>MSSubClass</th>\n",
       "      <th>LotFrontage</th>\n",
       "      <th>LotArea</th>\n",
       "      <th>OverallQual</th>\n",
       "      <th>OverallCond</th>\n",
       "      <th>YearBuilt</th>\n",
       "      <th>YearRemodAdd</th>\n",
       "      <th>MasVnrArea</th>\n",
       "      <th>BsmtFinSF1</th>\n",
       "      <th>...</th>\n",
       "      <th>WoodDeckSF</th>\n",
       "      <th>OpenPorchSF</th>\n",
       "      <th>EnclosedPorch</th>\n",
       "      <th>3SsnPorch</th>\n",
       "      <th>ScreenPorch</th>\n",
       "      <th>PoolArea</th>\n",
       "      <th>MiscVal</th>\n",
       "      <th>MoSold</th>\n",
       "      <th>YrSold</th>\n",
       "      <th>SalePrice</th>\n",
       "    </tr>\n",
       "  </thead>\n",
       "  <tbody>\n",
       "    <tr>\n",
       "      <th>0</th>\n",
       "      <td>1</td>\n",
       "      <td>60</td>\n",
       "      <td>65.0</td>\n",
       "      <td>8450</td>\n",
       "      <td>7</td>\n",
       "      <td>5</td>\n",
       "      <td>2003</td>\n",
       "      <td>2003</td>\n",
       "      <td>196.0</td>\n",
       "      <td>706.0</td>\n",
       "      <td>...</td>\n",
       "      <td>0</td>\n",
       "      <td>61</td>\n",
       "      <td>0</td>\n",
       "      <td>0</td>\n",
       "      <td>0</td>\n",
       "      <td>0</td>\n",
       "      <td>0</td>\n",
       "      <td>2</td>\n",
       "      <td>2008</td>\n",
       "      <td>208500.0</td>\n",
       "    </tr>\n",
       "    <tr>\n",
       "      <th>1</th>\n",
       "      <td>2</td>\n",
       "      <td>20</td>\n",
       "      <td>80.0</td>\n",
       "      <td>9600</td>\n",
       "      <td>6</td>\n",
       "      <td>8</td>\n",
       "      <td>1976</td>\n",
       "      <td>1976</td>\n",
       "      <td>0.0</td>\n",
       "      <td>978.0</td>\n",
       "      <td>...</td>\n",
       "      <td>298</td>\n",
       "      <td>0</td>\n",
       "      <td>0</td>\n",
       "      <td>0</td>\n",
       "      <td>0</td>\n",
       "      <td>0</td>\n",
       "      <td>0</td>\n",
       "      <td>5</td>\n",
       "      <td>2007</td>\n",
       "      <td>181500.0</td>\n",
       "    </tr>\n",
       "    <tr>\n",
       "      <th>2</th>\n",
       "      <td>3</td>\n",
       "      <td>60</td>\n",
       "      <td>68.0</td>\n",
       "      <td>11250</td>\n",
       "      <td>7</td>\n",
       "      <td>5</td>\n",
       "      <td>2001</td>\n",
       "      <td>2002</td>\n",
       "      <td>162.0</td>\n",
       "      <td>486.0</td>\n",
       "      <td>...</td>\n",
       "      <td>0</td>\n",
       "      <td>42</td>\n",
       "      <td>0</td>\n",
       "      <td>0</td>\n",
       "      <td>0</td>\n",
       "      <td>0</td>\n",
       "      <td>0</td>\n",
       "      <td>9</td>\n",
       "      <td>2008</td>\n",
       "      <td>223500.0</td>\n",
       "    </tr>\n",
       "    <tr>\n",
       "      <th>3</th>\n",
       "      <td>4</td>\n",
       "      <td>70</td>\n",
       "      <td>60.0</td>\n",
       "      <td>9550</td>\n",
       "      <td>7</td>\n",
       "      <td>5</td>\n",
       "      <td>1915</td>\n",
       "      <td>1970</td>\n",
       "      <td>0.0</td>\n",
       "      <td>216.0</td>\n",
       "      <td>...</td>\n",
       "      <td>0</td>\n",
       "      <td>35</td>\n",
       "      <td>272</td>\n",
       "      <td>0</td>\n",
       "      <td>0</td>\n",
       "      <td>0</td>\n",
       "      <td>0</td>\n",
       "      <td>2</td>\n",
       "      <td>2006</td>\n",
       "      <td>140000.0</td>\n",
       "    </tr>\n",
       "    <tr>\n",
       "      <th>4</th>\n",
       "      <td>5</td>\n",
       "      <td>60</td>\n",
       "      <td>84.0</td>\n",
       "      <td>14260</td>\n",
       "      <td>8</td>\n",
       "      <td>5</td>\n",
       "      <td>2000</td>\n",
       "      <td>2000</td>\n",
       "      <td>350.0</td>\n",
       "      <td>655.0</td>\n",
       "      <td>...</td>\n",
       "      <td>192</td>\n",
       "      <td>84</td>\n",
       "      <td>0</td>\n",
       "      <td>0</td>\n",
       "      <td>0</td>\n",
       "      <td>0</td>\n",
       "      <td>0</td>\n",
       "      <td>12</td>\n",
       "      <td>2008</td>\n",
       "      <td>250000.0</td>\n",
       "    </tr>\n",
       "  </tbody>\n",
       "</table>\n",
       "<p>5 rows × 38 columns</p>\n",
       "</div>"
      ],
      "text/plain": [
       "   Id  MSSubClass  LotFrontage  LotArea  OverallQual  OverallCond  YearBuilt  \\\n",
       "0   1          60         65.0     8450            7            5       2003   \n",
       "1   2          20         80.0     9600            6            8       1976   \n",
       "2   3          60         68.0    11250            7            5       2001   \n",
       "3   4          70         60.0     9550            7            5       1915   \n",
       "4   5          60         84.0    14260            8            5       2000   \n",
       "\n",
       "   YearRemodAdd  MasVnrArea  BsmtFinSF1  ...  WoodDeckSF  OpenPorchSF  \\\n",
       "0          2003       196.0       706.0  ...           0           61   \n",
       "1          1976         0.0       978.0  ...         298            0   \n",
       "2          2002       162.0       486.0  ...           0           42   \n",
       "3          1970         0.0       216.0  ...           0           35   \n",
       "4          2000       350.0       655.0  ...         192           84   \n",
       "\n",
       "   EnclosedPorch  3SsnPorch  ScreenPorch  PoolArea  MiscVal  MoSold  YrSold  \\\n",
       "0              0          0            0         0        0       2    2008   \n",
       "1              0          0            0         0        0       5    2007   \n",
       "2              0          0            0         0        0       9    2008   \n",
       "3            272          0            0         0        0       2    2006   \n",
       "4              0          0            0         0        0      12    2008   \n",
       "\n",
       "   SalePrice  \n",
       "0   208500.0  \n",
       "1   181500.0  \n",
       "2   223500.0  \n",
       "3   140000.0  \n",
       "4   250000.0  \n",
       "\n",
       "[5 rows x 38 columns]"
      ]
     },
     "execution_count": 164,
     "metadata": {},
     "output_type": "execute_result"
    }
   ],
   "source": [
    "houses.select_dtypes(include=['float','int']).head()"
   ]
  },
  {
   "cell_type": "code",
   "execution_count": 165,
   "metadata": {},
   "outputs": [
    {
     "data": {
      "image/png": "[encoded data removed]",
      "text/plain": [
       "<Figure size 1008x576 with 2 Axes>"
      ]
     },
     "metadata": {
      "needs_background": "light"
     },
     "output_type": "display_data"
    }
   ],
   "source": [
    "# Initiate correlation matrix\n",
    "corrmat = houses.corr()\n",
    "\n",
    "# Set-up mask\n",
    "mask = np.zeros_like(corrmat, dtype=np.bool)\n",
    "mask[np.triu_indices_from(mask)] = True\n",
    "\n",
    "# Set-up figure\n",
    "plt.figure(figsize=(14, 8))\n",
    "plt.title('Overall Correlation of Features', fontsize=18)\n",
    "ax = sns.heatmap(corrmat, mask=mask, cmap='RdYlGn', linewidths=0.2, annot_kws={'size':20})\n",
    "\n",
    "# Fix bug in heatmap to display full high rows on top and bottom\n",
    "bottom, top = ax.get_ylim()\n",
    "ax.set_ylim(bottom + 0.5, top - 0.5)\n",
    "\n",
    "ax.set_xticklabels(\n",
    "    ax.get_xticklabels(),\n",
    "    rotation=45,\n",
    "    horizontalalignment='right'\n",
    ")\n",
    "plt.show()"
   ]
  },
  {
   "cell_type": "code",
   "execution_count": 166,
   "metadata": {},
   "outputs": [
    {
     "data": {
      "image/png": "[encoded data removed]",
      "text/plain": [
       "<Figure size 1008x576 with 2 Axes>"
      ]
     },
     "metadata": {
      "needs_background": "light"
     },
     "output_type": "display_data"
    }
   ],
   "source": [
    "#saleprice correlation matrix\n",
    "#set top number of variables for heatmap\n",
    "k = 10 \n",
    "cols = corrmat.nlargest(k, 'SalePrice')['SalePrice'].index\n",
    "cm = np.corrcoef(train[cols].values.T)\n",
    "\n",
    "plt.figure(figsize=(14, 8))\n",
    "plt.title('Top Correlation of Features', fontsize=18)\n",
    "sns.set(font_scale=1.25)\n",
    "ax = sns.heatmap(cm, cbar=True, annot=True, cmap='RdYlGn', square=True, fmt='.2f', annot_kws={'size': 12}, yticklabels=cols.values, xticklabels=cols.values)\n",
    "bottom, top = ax.get_ylim()\n",
    "ax.set_ylim(bottom + 0.5, top - 0.5)\n",
    "\n",
    "plt.show()"
   ]
  },
  {
   "cell_type": "code",
   "execution_count": 167,
   "metadata": {},
   "outputs": [
    {
     "data": {
      "text/plain": [
       "MSZoning           4\n",
       "Alley           2719\n",
       "Utilities          2\n",
       "Exterior1st        1\n",
       "Exterior2nd        1\n",
       "MasVnrType        24\n",
       "BsmtQual          81\n",
       "BsmtCond          82\n",
       "BsmtExposure      82\n",
       "BsmtFinType1      79\n",
       "BsmtFinType2      80\n",
       "Electrical         1\n",
       "KitchenQual        1\n",
       "Functional         2\n",
       "FireplaceQu     1420\n",
       "GarageType       157\n",
       "GarageFinish     159\n",
       "GarageQual       159\n",
       "GarageCond       159\n",
       "PoolQC          2908\n",
       "Fence           2346\n",
       "MiscFeature     2812\n",
       "SaleType           1\n",
       "dtype: int64"
      ]
     },
     "execution_count": 167,
     "metadata": {},
     "output_type": "execute_result"
    }
   ],
   "source": [
    "houses.select_dtypes(include='object').isnull().sum()[houses.select_dtypes(include='object').isnull().sum()>0]"
   ]
  },
  {
   "cell_type": "markdown",
   "metadata": {},
   "source": [
    "# Create new features"
   ]
  },
  {
   "cell_type": "code",
   "execution_count": 168,
   "metadata": {},
   "outputs": [],
   "source": [
    "# houses['TotalBsmtSF'] = houses['TotalBsmtSF'].apply(lambda x: np.exp(6) if x <= 0.0 else x)\n",
    "# houses['2ndFlrSF'] = houses['2ndFlrSF'].apply(lambda x: np.exp(6.5) if x <= 0.0 else x)\n",
    "# houses['GarageArea'] = houses['GarageArea'].apply(lambda x: np.exp(6) if x <= 0.0 else x)\n",
    "# houses['GarageCars'] = houses['GarageCars'].apply(lambda x: 0 if x <= 0.0 else x)\n",
    "# houses['LotFrontage'] = houses['LotFrontage'].apply(lambda x: np.exp(4.2) if x <= 0.0 else x)\n",
    "# houses['MasVnrArea'] = houses['MasVnrArea'].apply(lambda x: np.exp(4) if x <= 0.0 else x)\n",
    "# houses['BsmtFinSF1'] = houses['BsmtFinSF1'].apply(lambda x: np.exp(6.5) if x <= 0.0 else x)\n",
    "# houses['haspool'] = houses['PoolArea'].apply(lambda x: 1 if x > 0 else 0)\n",
    "# houses['has2ndfloor'] = houses['2ndFlrSF'].apply(lambda x: 1 if x > 0 else 0)\n",
    "# houses['hasgarage'] = houses['GarageArea'].apply(lambda x: 1 if x > 0 else 0)\n",
    "# houses['hasbsmt'] = houses['TotalBsmtSF'].apply(lambda x: 1 if x > 0 else 0)\n",
    "# houses['hasfireplace'] = houses['Fireplaces'].apply(lambda x: 1 if x > 0 else 0)"
   ]
  },
  {
   "cell_type": "markdown",
   "metadata": {},
   "source": [
    "# Feature engineering"
   ]
  },
  {
   "cell_type": "code",
   "execution_count": 169,
   "metadata": {},
   "outputs": [],
   "source": [
    "houses = houses.drop(['Utilities', 'Street', 'PoolQC', 'LandSlope', 'Exterior2nd'], axis=1)"
   ]
  },
  {
   "cell_type": "code",
   "execution_count": 170,
   "metadata": {},
   "outputs": [],
   "source": [
    "houses[\"MiscFeature\"] = houses[\"MiscFeature\"].fillna(\"None\")\n",
    "houses[\"Alley\"] = houses[\"Alley\"].fillna(\"None\")\n",
    "houses[\"Fence\"] = houses[\"Fence\"].fillna(\"None\")\n",
    "houses[\"FireplaceQu\"] = houses[\"FireplaceQu\"].fillna(\"None\")"
   ]
  },
  {
   "cell_type": "code",
   "execution_count": 171,
   "metadata": {},
   "outputs": [],
   "source": [
    "houses[\"LotFrontage\"] = houses.groupby(\"Neighborhood\")[\"LotFrontage\"].transform(\n",
    "    lambda x: x.fillna(x.median()))"
   ]
  },
  {
   "cell_type": "code",
   "execution_count": 172,
   "metadata": {},
   "outputs": [],
   "source": [
    "for col in ['GarageType', 'GarageFinish', 'GarageQual', 'GarageCond']:\n",
    "    houses[col] = houses[col].fillna('None')"
   ]
  },
  {
   "cell_type": "code",
   "execution_count": 173,
   "metadata": {},
   "outputs": [],
   "source": [
    "for col in ('GarageYrBlt', 'GarageArea', 'GarageCars'):\n",
    "    houses[col] = houses[col].fillna(0)"
   ]
  },
  {
   "cell_type": "code",
   "execution_count": 174,
   "metadata": {},
   "outputs": [],
   "source": [
    "for col in ('BsmtFinSF1', 'BsmtFinSF2', 'BsmtUnfSF','TotalBsmtSF', 'BsmtFullBath', 'BsmtHalfBath'):\n",
    "    houses[col] = houses[col].fillna(0)"
   ]
  },
  {
   "cell_type": "code",
   "execution_count": 175,
   "metadata": {},
   "outputs": [],
   "source": [
    "for col in ('BsmtQual', 'BsmtCond', 'BsmtExposure', 'BsmtFinType1', 'BsmtFinType2'):\n",
    "    houses[col] = houses[col].fillna('None')"
   ]
  },
  {
   "cell_type": "code",
   "execution_count": 176,
   "metadata": {},
   "outputs": [],
   "source": [
    "houses[\"MasVnrType\"] = houses[\"MasVnrType\"].fillna(\"None\")\n",
    "houses[\"MasVnrArea\"] = houses[\"MasVnrArea\"].fillna(0)"
   ]
  },
  {
   "cell_type": "code",
   "execution_count": 177,
   "metadata": {},
   "outputs": [],
   "source": [
    "houses['MSZoning'] = houses['MSZoning'].fillna(houses['MSZoning'].mode()[0])\n",
    "houses[\"Functional\"] = houses[\"Functional\"].fillna(\"Typ\")\n",
    "houses['MSSubClass'] = houses['MSSubClass'].fillna(\"None\")"
   ]
  },
  {
   "cell_type": "code",
   "execution_count": 178,
   "metadata": {},
   "outputs": [],
   "source": [
    "mode_col = ['Electrical','KitchenQual', 'Exterior1st', 'SaleType']\n",
    "for col in mode_col:\n",
    "    houses[col] = houses[col].fillna(houses[col].mode()[0])"
   ]
  },
  {
   "cell_type": "code",
   "execution_count": 179,
   "metadata": {},
   "outputs": [
    {
     "data": {
      "text/html": [
       "<div>\n",
       "<style scoped>\n",
       "    .dataframe tbody tr th:only-of-type {\n",
       "        vertical-align: middle;\n",
       "    }\n",
       "\n",
       "    .dataframe tbody tr th {\n",
       "        vertical-align: top;\n",
       "    }\n",
       "\n",
       "    .dataframe thead th {\n",
       "        text-align: right;\n",
       "    }\n",
       "</style>\n",
       "<table border=\"1\" class=\"dataframe\">\n",
       "  <thead>\n",
       "    <tr style=\"text-align: right;\">\n",
       "      <th></th>\n",
       "      <th>Missing Ratio</th>\n",
       "    </tr>\n",
       "  </thead>\n",
       "  <tbody>\n",
       "    <tr>\n",
       "      <th>SalePrice</th>\n",
       "      <td>50.017141</td>\n",
       "    </tr>\n",
       "  </tbody>\n",
       "</table>\n",
       "</div>"
      ],
      "text/plain": [
       "           Missing Ratio\n",
       "SalePrice      50.017141"
      ]
     },
     "execution_count": 179,
     "metadata": {},
     "output_type": "execute_result"
    }
   ],
   "source": [
    "#Check remaining missing values if any \n",
    "houses_na = (houses.isnull().sum() / len(houses)) * 100\n",
    "houses_na = houses_na.drop(houses_na[houses_na == 0].index).sort_values(ascending=False)\n",
    "missing_data = pd.DataFrame({'Missing Ratio' :houses_na})\n",
    "missing_data.head()"
   ]
  },
  {
   "cell_type": "code",
   "execution_count": 180,
   "metadata": {},
   "outputs": [],
   "source": [
    "# Converting some numerical variables that are really categorical type.\n",
    "houses['MSSubClass'] = houses['MSSubClass'].apply(str)\n",
    "houses['OverallCond'] = houses['OverallCond'].astype(str)\n",
    "houses['YrSold'] = houses['YrSold'].astype(str)\n",
    "houses['MoSold'] = houses['MoSold'].astype(str)"
   ]
  },
  {
   "cell_type": "markdown",
   "metadata": {},
   "source": [
    "# Label Encoding"
   ]
  },
  {
   "cell_type": "code",
   "execution_count": 181,
   "metadata": {},
   "outputs": [
    {
     "name": "stdout",
     "output_type": "stream",
     "text": [
      "Shape all_data: (2917, 76)\n"
     ]
    }
   ],
   "source": [
    "cols = ('FireplaceQu', 'BsmtQual', 'BsmtCond', 'GarageQual', 'GarageCond', \n",
    "        'ExterQual', 'ExterCond','HeatingQC', 'KitchenQual', 'BsmtFinType1', \n",
    "        'BsmtFinType2', 'Functional', 'Fence', 'BsmtExposure', 'GarageFinish',\n",
    "        'LotShape', 'PavedDrive', 'Alley', 'CentralAir', 'MSSubClass', 'OverallCond', \n",
    "        'YrSold', 'MoSold')\n",
    "# process columns, apply LabelEncoder to categorical features\n",
    "for c in cols:\n",
    "    lbl = LabelEncoder() \n",
    "    lbl.fit(list(houses[c].values)) \n",
    "    houses[c] = lbl.transform(list(houses[c].values))\n",
    "\n",
    "# shape        \n",
    "print('Shape all_data: {}'.format(houses.shape))"
   ]
  },
  {
   "cell_type": "code",
   "execution_count": 182,
   "metadata": {},
   "outputs": [],
   "source": [
    "houses['TotalSF'] = houses['TotalBsmtSF'] + houses['1stFlrSF'] + houses['2ndFlrSF']"
   ]
  },
  {
   "cell_type": "markdown",
   "metadata": {},
   "source": [
    "# Fix Skewness in Data"
   ]
  },
  {
   "cell_type": "code",
   "execution_count": 183,
   "metadata": {},
   "outputs": [
    {
     "data": {
      "text/html": [
       "<div>\n",
       "<style scoped>\n",
       "    .dataframe tbody tr th:only-of-type {\n",
       "        vertical-align: middle;\n",
       "    }\n",
       "\n",
       "    .dataframe tbody tr th {\n",
       "        vertical-align: top;\n",
       "    }\n",
       "\n",
       "    .dataframe thead th {\n",
       "        text-align: right;\n",
       "    }\n",
       "</style>\n",
       "<table border=\"1\" class=\"dataframe\">\n",
       "  <thead>\n",
       "    <tr style=\"text-align: right;\">\n",
       "      <th></th>\n",
       "      <th>Skew</th>\n",
       "    </tr>\n",
       "  </thead>\n",
       "  <tbody>\n",
       "    <tr>\n",
       "      <th>MiscVal</th>\n",
       "      <td>21.950962</td>\n",
       "    </tr>\n",
       "    <tr>\n",
       "      <th>PoolArea</th>\n",
       "      <td>17.697766</td>\n",
       "    </tr>\n",
       "    <tr>\n",
       "      <th>LotArea</th>\n",
       "      <td>13.116240</td>\n",
       "    </tr>\n",
       "    <tr>\n",
       "      <th>LowQualFinSF</th>\n",
       "      <td>12.090757</td>\n",
       "    </tr>\n",
       "    <tr>\n",
       "      <th>3SsnPorch</th>\n",
       "      <td>11.377932</td>\n",
       "    </tr>\n",
       "    <tr>\n",
       "      <th>KitchenAbvGr</th>\n",
       "      <td>4.302763</td>\n",
       "    </tr>\n",
       "    <tr>\n",
       "      <th>BsmtFinSF2</th>\n",
       "      <td>4.146636</td>\n",
       "    </tr>\n",
       "    <tr>\n",
       "      <th>EnclosedPorch</th>\n",
       "      <td>4.004404</td>\n",
       "    </tr>\n",
       "    <tr>\n",
       "      <th>ScreenPorch</th>\n",
       "      <td>3.947131</td>\n",
       "    </tr>\n",
       "    <tr>\n",
       "      <th>BsmtHalfBath</th>\n",
       "      <td>3.932018</td>\n",
       "    </tr>\n",
       "    <tr>\n",
       "      <th>MasVnrArea</th>\n",
       "      <td>2.623068</td>\n",
       "    </tr>\n",
       "    <tr>\n",
       "      <th>OpenPorchSF</th>\n",
       "      <td>2.530660</td>\n",
       "    </tr>\n",
       "    <tr>\n",
       "      <th>SalePrice</th>\n",
       "      <td>1.881296</td>\n",
       "    </tr>\n",
       "    <tr>\n",
       "      <th>WoodDeckSF</th>\n",
       "      <td>1.845741</td>\n",
       "    </tr>\n",
       "    <tr>\n",
       "      <th>1stFlrSF</th>\n",
       "      <td>1.257933</td>\n",
       "    </tr>\n",
       "    <tr>\n",
       "      <th>LotFrontage</th>\n",
       "      <td>1.103606</td>\n",
       "    </tr>\n",
       "    <tr>\n",
       "      <th>GrLivArea</th>\n",
       "      <td>1.069300</td>\n",
       "    </tr>\n",
       "    <tr>\n",
       "      <th>TotalSF</th>\n",
       "      <td>1.009676</td>\n",
       "    </tr>\n",
       "    <tr>\n",
       "      <th>BsmtFinSF1</th>\n",
       "      <td>0.981149</td>\n",
       "    </tr>\n",
       "    <tr>\n",
       "      <th>BsmtUnfSF</th>\n",
       "      <td>0.920161</td>\n",
       "    </tr>\n",
       "  </tbody>\n",
       "</table>\n",
       "</div>"
      ],
      "text/plain": [
       "                    Skew\n",
       "MiscVal        21.950962\n",
       "PoolArea       17.697766\n",
       "LotArea        13.116240\n",
       "LowQualFinSF   12.090757\n",
       "3SsnPorch      11.377932\n",
       "KitchenAbvGr    4.302763\n",
       "BsmtFinSF2      4.146636\n",
       "EnclosedPorch   4.004404\n",
       "ScreenPorch     3.947131\n",
       "BsmtHalfBath    3.932018\n",
       "MasVnrArea      2.623068\n",
       "OpenPorchSF     2.530660\n",
       "SalePrice       1.881296\n",
       "WoodDeckSF      1.845741\n",
       "1stFlrSF        1.257933\n",
       "LotFrontage     1.103606\n",
       "GrLivArea       1.069300\n",
       "TotalSF         1.009676\n",
       "BsmtFinSF1      0.981149\n",
       "BsmtUnfSF       0.920161"
      ]
     },
     "execution_count": 183,
     "metadata": {},
     "output_type": "execute_result"
    }
   ],
   "source": [
    "skewness = pd.DataFrame(houses.skew(axis = 0, skipna = True).sort_values(ascending=False), columns=['Skew'])\n",
    "skewness.head(20)"
   ]
  },
  {
   "cell_type": "code",
   "execution_count": 184,
   "metadata": {},
   "outputs": [
    {
     "name": "stdout",
     "output_type": "stream",
     "text": [
      "There are 58 skewed numerical features to Box Cox transform\n"
     ]
    }
   ],
   "source": [
    "skewness = skewness[abs(skewness) > 0.75]\n",
    "print(\"There are {} skewed numerical features to Box Cox transform\".format(skewness.shape[0]))\n",
    "\n",
    "skewed_features = skewness.index\n",
    "lam = 0.15\n",
    "for feat in skewed_features:\n",
    "    if feat != 'SalePrice':\n",
    "        houses[feat] = np.log1p(houses[feat])"
   ]
  },
  {
   "cell_type": "code",
   "execution_count": 185,
   "metadata": {
    "scrolled": true
   },
   "outputs": [
    {
     "data": {
      "text/html": [
       "<div>\n",
       "<style scoped>\n",
       "    .dataframe tbody tr th:only-of-type {\n",
       "        vertical-align: middle;\n",
       "    }\n",
       "\n",
       "    .dataframe tbody tr th {\n",
       "        vertical-align: top;\n",
       "    }\n",
       "\n",
       "    .dataframe thead th {\n",
       "        text-align: right;\n",
       "    }\n",
       "</style>\n",
       "<table border=\"1\" class=\"dataframe\">\n",
       "  <thead>\n",
       "    <tr style=\"text-align: right;\">\n",
       "      <th></th>\n",
       "      <th>Id</th>\n",
       "      <th>MSSubClass</th>\n",
       "      <th>LotFrontage</th>\n",
       "      <th>LotArea</th>\n",
       "      <th>Alley</th>\n",
       "      <th>LotShape</th>\n",
       "      <th>OverallQual</th>\n",
       "      <th>OverallCond</th>\n",
       "      <th>YearBuilt</th>\n",
       "      <th>YearRemodAdd</th>\n",
       "      <th>...</th>\n",
       "      <th>SaleType_ConLw</th>\n",
       "      <th>SaleType_New</th>\n",
       "      <th>SaleType_Oth</th>\n",
       "      <th>SaleType_WD</th>\n",
       "      <th>SaleCondition_Abnorml</th>\n",
       "      <th>SaleCondition_AdjLand</th>\n",
       "      <th>SaleCondition_Alloca</th>\n",
       "      <th>SaleCondition_Family</th>\n",
       "      <th>SaleCondition_Normal</th>\n",
       "      <th>SaleCondition_Partial</th>\n",
       "    </tr>\n",
       "  </thead>\n",
       "  <tbody>\n",
       "    <tr>\n",
       "      <th>0</th>\n",
       "      <td>0.693147</td>\n",
       "      <td>2.397895</td>\n",
       "      <td>4.189655</td>\n",
       "      <td>9.042040</td>\n",
       "      <td>0.693147</td>\n",
       "      <td>1.386294</td>\n",
       "      <td>2.079442</td>\n",
       "      <td>1.609438</td>\n",
       "      <td>7.602900</td>\n",
       "      <td>7.602900</td>\n",
       "      <td>...</td>\n",
       "      <td>0</td>\n",
       "      <td>0</td>\n",
       "      <td>0</td>\n",
       "      <td>1</td>\n",
       "      <td>0</td>\n",
       "      <td>0</td>\n",
       "      <td>0</td>\n",
       "      <td>0</td>\n",
       "      <td>1</td>\n",
       "      <td>0</td>\n",
       "    </tr>\n",
       "    <tr>\n",
       "      <th>1</th>\n",
       "      <td>1.098612</td>\n",
       "      <td>1.791759</td>\n",
       "      <td>4.394449</td>\n",
       "      <td>9.169623</td>\n",
       "      <td>0.693147</td>\n",
       "      <td>1.386294</td>\n",
       "      <td>1.945910</td>\n",
       "      <td>2.079442</td>\n",
       "      <td>7.589336</td>\n",
       "      <td>7.589336</td>\n",
       "      <td>...</td>\n",
       "      <td>0</td>\n",
       "      <td>0</td>\n",
       "      <td>0</td>\n",
       "      <td>1</td>\n",
       "      <td>0</td>\n",
       "      <td>0</td>\n",
       "      <td>0</td>\n",
       "      <td>0</td>\n",
       "      <td>1</td>\n",
       "      <td>0</td>\n",
       "    </tr>\n",
       "    <tr>\n",
       "      <th>2</th>\n",
       "      <td>1.386294</td>\n",
       "      <td>2.397895</td>\n",
       "      <td>4.234107</td>\n",
       "      <td>9.328212</td>\n",
       "      <td>0.693147</td>\n",
       "      <td>0.000000</td>\n",
       "      <td>2.079442</td>\n",
       "      <td>1.609438</td>\n",
       "      <td>7.601902</td>\n",
       "      <td>7.602401</td>\n",
       "      <td>...</td>\n",
       "      <td>0</td>\n",
       "      <td>0</td>\n",
       "      <td>0</td>\n",
       "      <td>1</td>\n",
       "      <td>0</td>\n",
       "      <td>0</td>\n",
       "      <td>0</td>\n",
       "      <td>0</td>\n",
       "      <td>1</td>\n",
       "      <td>0</td>\n",
       "    </tr>\n",
       "    <tr>\n",
       "      <th>3</th>\n",
       "      <td>1.609438</td>\n",
       "      <td>2.484907</td>\n",
       "      <td>4.110874</td>\n",
       "      <td>9.164401</td>\n",
       "      <td>0.693147</td>\n",
       "      <td>0.000000</td>\n",
       "      <td>2.079442</td>\n",
       "      <td>1.609438</td>\n",
       "      <td>7.557995</td>\n",
       "      <td>7.586296</td>\n",
       "      <td>...</td>\n",
       "      <td>0</td>\n",
       "      <td>0</td>\n",
       "      <td>0</td>\n",
       "      <td>1</td>\n",
       "      <td>1</td>\n",
       "      <td>0</td>\n",
       "      <td>0</td>\n",
       "      <td>0</td>\n",
       "      <td>0</td>\n",
       "      <td>0</td>\n",
       "    </tr>\n",
       "    <tr>\n",
       "      <th>4</th>\n",
       "      <td>1.791759</td>\n",
       "      <td>2.397895</td>\n",
       "      <td>4.442651</td>\n",
       "      <td>9.565284</td>\n",
       "      <td>0.693147</td>\n",
       "      <td>0.000000</td>\n",
       "      <td>2.197225</td>\n",
       "      <td>1.609438</td>\n",
       "      <td>7.601402</td>\n",
       "      <td>7.601402</td>\n",
       "      <td>...</td>\n",
       "      <td>0</td>\n",
       "      <td>0</td>\n",
       "      <td>0</td>\n",
       "      <td>1</td>\n",
       "      <td>0</td>\n",
       "      <td>0</td>\n",
       "      <td>0</td>\n",
       "      <td>0</td>\n",
       "      <td>1</td>\n",
       "      <td>0</td>\n",
       "    </tr>\n",
       "    <tr>\n",
       "      <th>...</th>\n",
       "      <td>...</td>\n",
       "      <td>...</td>\n",
       "      <td>...</td>\n",
       "      <td>...</td>\n",
       "      <td>...</td>\n",
       "      <td>...</td>\n",
       "      <td>...</td>\n",
       "      <td>...</td>\n",
       "      <td>...</td>\n",
       "      <td>...</td>\n",
       "      <td>...</td>\n",
       "      <td>...</td>\n",
       "      <td>...</td>\n",
       "      <td>...</td>\n",
       "      <td>...</td>\n",
       "      <td>...</td>\n",
       "      <td>...</td>\n",
       "      <td>...</td>\n",
       "      <td>...</td>\n",
       "      <td>...</td>\n",
       "      <td>...</td>\n",
       "    </tr>\n",
       "    <tr>\n",
       "      <th>1454</th>\n",
       "      <td>7.977968</td>\n",
       "      <td>1.098612</td>\n",
       "      <td>3.091042</td>\n",
       "      <td>7.568896</td>\n",
       "      <td>0.693147</td>\n",
       "      <td>1.386294</td>\n",
       "      <td>1.609438</td>\n",
       "      <td>1.945910</td>\n",
       "      <td>7.586296</td>\n",
       "      <td>7.586296</td>\n",
       "      <td>...</td>\n",
       "      <td>0</td>\n",
       "      <td>0</td>\n",
       "      <td>0</td>\n",
       "      <td>1</td>\n",
       "      <td>0</td>\n",
       "      <td>0</td>\n",
       "      <td>0</td>\n",
       "      <td>0</td>\n",
       "      <td>1</td>\n",
       "      <td>0</td>\n",
       "    </tr>\n",
       "    <tr>\n",
       "      <th>1455</th>\n",
       "      <td>7.978311</td>\n",
       "      <td>1.098612</td>\n",
       "      <td>3.091042</td>\n",
       "      <td>7.546974</td>\n",
       "      <td>0.693147</td>\n",
       "      <td>1.386294</td>\n",
       "      <td>1.609438</td>\n",
       "      <td>1.609438</td>\n",
       "      <td>7.586296</td>\n",
       "      <td>7.586296</td>\n",
       "      <td>...</td>\n",
       "      <td>0</td>\n",
       "      <td>0</td>\n",
       "      <td>0</td>\n",
       "      <td>1</td>\n",
       "      <td>1</td>\n",
       "      <td>0</td>\n",
       "      <td>0</td>\n",
       "      <td>0</td>\n",
       "      <td>0</td>\n",
       "      <td>0</td>\n",
       "    </tr>\n",
       "    <tr>\n",
       "      <th>1456</th>\n",
       "      <td>7.978654</td>\n",
       "      <td>1.791759</td>\n",
       "      <td>5.081404</td>\n",
       "      <td>9.903538</td>\n",
       "      <td>0.693147</td>\n",
       "      <td>1.386294</td>\n",
       "      <td>1.791759</td>\n",
       "      <td>1.945910</td>\n",
       "      <td>7.581210</td>\n",
       "      <td>7.599401</td>\n",
       "      <td>...</td>\n",
       "      <td>0</td>\n",
       "      <td>0</td>\n",
       "      <td>0</td>\n",
       "      <td>1</td>\n",
       "      <td>1</td>\n",
       "      <td>0</td>\n",
       "      <td>0</td>\n",
       "      <td>0</td>\n",
       "      <td>0</td>\n",
       "      <td>0</td>\n",
       "    </tr>\n",
       "    <tr>\n",
       "      <th>1457</th>\n",
       "      <td>7.978996</td>\n",
       "      <td>2.708050</td>\n",
       "      <td>4.143135</td>\n",
       "      <td>9.253591</td>\n",
       "      <td>0.693147</td>\n",
       "      <td>1.386294</td>\n",
       "      <td>1.791759</td>\n",
       "      <td>1.609438</td>\n",
       "      <td>7.597396</td>\n",
       "      <td>7.597396</td>\n",
       "      <td>...</td>\n",
       "      <td>0</td>\n",
       "      <td>0</td>\n",
       "      <td>0</td>\n",
       "      <td>1</td>\n",
       "      <td>0</td>\n",
       "      <td>0</td>\n",
       "      <td>0</td>\n",
       "      <td>0</td>\n",
       "      <td>1</td>\n",
       "      <td>0</td>\n",
       "    </tr>\n",
       "    <tr>\n",
       "      <th>1458</th>\n",
       "      <td>7.979339</td>\n",
       "      <td>2.397895</td>\n",
       "      <td>4.317488</td>\n",
       "      <td>9.172431</td>\n",
       "      <td>0.693147</td>\n",
       "      <td>1.386294</td>\n",
       "      <td>2.079442</td>\n",
       "      <td>1.609438</td>\n",
       "      <td>7.597898</td>\n",
       "      <td>7.598399</td>\n",
       "      <td>...</td>\n",
       "      <td>0</td>\n",
       "      <td>0</td>\n",
       "      <td>0</td>\n",
       "      <td>1</td>\n",
       "      <td>0</td>\n",
       "      <td>0</td>\n",
       "      <td>0</td>\n",
       "      <td>0</td>\n",
       "      <td>1</td>\n",
       "      <td>0</td>\n",
       "    </tr>\n",
       "  </tbody>\n",
       "</table>\n",
       "<p>2917 rows × 203 columns</p>\n",
       "</div>"
      ],
      "text/plain": [
       "            Id  MSSubClass  LotFrontage   LotArea     Alley  LotShape  \\\n",
       "0     0.693147    2.397895     4.189655  9.042040  0.693147  1.386294   \n",
       "1     1.098612    1.791759     4.394449  9.169623  0.693147  1.386294   \n",
       "2     1.386294    2.397895     4.234107  9.328212  0.693147  0.000000   \n",
       "3     1.609438    2.484907     4.110874  9.164401  0.693147  0.000000   \n",
       "4     1.791759    2.397895     4.442651  9.565284  0.693147  0.000000   \n",
       "...        ...         ...          ...       ...       ...       ...   \n",
       "1454  7.977968    1.098612     3.091042  7.568896  0.693147  1.386294   \n",
       "1455  7.978311    1.098612     3.091042  7.546974  0.693147  1.386294   \n",
       "1456  7.978654    1.791759     5.081404  9.903538  0.693147  1.386294   \n",
       "1457  7.978996    2.708050     4.143135  9.253591  0.693147  1.386294   \n",
       "1458  7.979339    2.397895     4.317488  9.172431  0.693147  1.386294   \n",
       "\n",
       "      OverallQual  OverallCond  YearBuilt  YearRemodAdd  ...  SaleType_ConLw  \\\n",
       "0        2.079442     1.609438   7.602900      7.602900  ...               0   \n",
       "1        1.945910     2.079442   7.589336      7.589336  ...               0   \n",
       "2        2.079442     1.609438   7.601902      7.602401  ...               0   \n",
       "3        2.079442     1.609438   7.557995      7.586296  ...               0   \n",
       "4        2.197225     1.609438   7.601402      7.601402  ...               0   \n",
       "...           ...          ...        ...           ...  ...             ...   \n",
       "1454     1.609438     1.945910   7.586296      7.586296  ...               0   \n",
       "1455     1.609438     1.609438   7.586296      7.586296  ...               0   \n",
       "1456     1.791759     1.945910   7.581210      7.599401  ...               0   \n",
       "1457     1.791759     1.609438   7.597396      7.597396  ...               0   \n",
       "1458     2.079442     1.609438   7.597898      7.598399  ...               0   \n",
       "\n",
       "      SaleType_New  SaleType_Oth  SaleType_WD  SaleCondition_Abnorml  \\\n",
       "0                0             0            1                      0   \n",
       "1                0             0            1                      0   \n",
       "2                0             0            1                      0   \n",
       "3                0             0            1                      1   \n",
       "4                0             0            1                      0   \n",
       "...            ...           ...          ...                    ...   \n",
       "1454             0             0            1                      0   \n",
       "1455             0             0            1                      1   \n",
       "1456             0             0            1                      1   \n",
       "1457             0             0            1                      0   \n",
       "1458             0             0            1                      0   \n",
       "\n",
       "      SaleCondition_AdjLand  SaleCondition_Alloca  SaleCondition_Family  \\\n",
       "0                         0                     0                     0   \n",
       "1                         0                     0                     0   \n",
       "2                         0                     0                     0   \n",
       "3                         0                     0                     0   \n",
       "4                         0                     0                     0   \n",
       "...                     ...                   ...                   ...   \n",
       "1454                      0                     0                     0   \n",
       "1455                      0                     0                     0   \n",
       "1456                      0                     0                     0   \n",
       "1457                      0                     0                     0   \n",
       "1458                      0                     0                     0   \n",
       "\n",
       "      SaleCondition_Normal  SaleCondition_Partial  \n",
       "0                        1                      0  \n",
       "1                        1                      0  \n",
       "2                        1                      0  \n",
       "3                        0                      0  \n",
       "4                        1                      0  \n",
       "...                    ...                    ...  \n",
       "1454                     1                      0  \n",
       "1455                     0                      0  \n",
       "1456                     0                      0  \n",
       "1457                     1                      0  \n",
       "1458                     1                      0  \n",
       "\n",
       "[2917 rows x 203 columns]"
      ]
     },
     "execution_count": 185,
     "metadata": {},
     "output_type": "execute_result"
    }
   ],
   "source": [
    "houses=pd.get_dummies(houses)\n",
    "houses"
   ]
  },
  {
   "cell_type": "code",
   "execution_count": 186,
   "metadata": {},
   "outputs": [],
   "source": [
    "train=houses[:len_train]\n",
    "test=houses[len_train:]"
   ]
  },
  {
   "cell_type": "code",
   "execution_count": 187,
   "metadata": {},
   "outputs": [],
   "source": [
    "train['SalePrice']=np.log(train['SalePrice'])"
   ]
  },
  {
   "cell_type": "code",
   "execution_count": 188,
   "metadata": {},
   "outputs": [],
   "source": [
    "train.drop('Id', axis=1, inplace=True)\n",
    "test.drop('Id', axis=1, inplace=True)"
   ]
  },
  {
   "cell_type": "code",
   "execution_count": 189,
   "metadata": {},
   "outputs": [],
   "source": [
    "X_train =train.drop('SalePrice', axis=1)\n",
    "y_train =train['SalePrice']\n",
    "X_test = test.drop('SalePrice', axis=1)"
   ]
  },
  {
   "cell_type": "markdown",
   "metadata": {},
   "source": [
    "# Build and Train Models"
   ]
  },
  {
   "cell_type": "code",
   "execution_count": 190,
   "metadata": {},
   "outputs": [],
   "source": [
    "sc = RobustScaler()\n",
    "X_train =sc.fit_transform(X_train)\n",
    "X_test = sc.fit_transform(X_test)"
   ]
  },
  {
   "cell_type": "code",
   "execution_count": 154,
   "metadata": {},
   "outputs": [
    {
     "name": "stdout",
     "output_type": "stream",
     "text": [
      "\n",
      "Gboots score: nan (nan)\n",
      "\n"
     ]
    }
   ],
   "source": [
    "# Initialize our model\n",
    "# With huber loss that makes it robust to outliers\n",
    "kf = KFold(n_splits=10)\n",
    "g_boost = GradientBoostingRegressor( n_estimators=6000, learning_rate=0.01,\n",
    "                                     max_depth=5,\n",
    "                                     min_samples_leaf=15, min_samples_split=10,\n",
    "                                     loss='huber', random_state =42\n",
    "                                   )\n",
    "g_boost_pred = cross_val_score(g_boost, X_train, y_train, cv=kf,  scoring=\"neg_mean_squared_error\", n_jobs=-1)\n",
    "gboost = np.sqrt(-g_boost_pred)\n",
    "print(\"\\nGboots score: {:.4f} ({:.4f})\\n\".format(gboost.mean(), gboost.std()))"
   ]
  },
  {
   "cell_type": "code",
   "execution_count": 191,
   "metadata": {},
   "outputs": [
    {
     "name": "stdout",
     "output_type": "stream",
     "text": [
      "\n",
      "Ridgescore: 0.1189 (0.0167)\n",
      "\n"
     ]
    }
   ],
   "source": [
    "# Initialize our model\n",
    "kf = KFold(n_splits=10)\n",
    "ridge = KernelRidge(alpha=0.6, kernel='polynomial', degree=2, coef0=2.5)\n",
    "ridge_pred = cross_val_score(ridge, X_train, y_train, cv=kf, scoring=\"neg_mean_squared_error\", n_jobs=-1)\n",
    "rmser = np.sqrt(-ridge_pred)\n",
    "print(\"\\nRidgescore: {:.4f} ({:.4f})\\n\".format(rmser.mean(), rmser.std()))"
   ]
  },
  {
   "cell_type": "code",
   "execution_count": 192,
   "metadata": {},
   "outputs": [
    {
     "name": "stdout",
     "output_type": "stream",
     "text": [
      "\n",
      "Lasso score: 0.1110 (0.0138)\n",
      "\n"
     ]
    }
   ],
   "source": [
    "# Initialize our model\n",
    "# This model may be very sensitive to outliers. So we need to made it more robust on them.\n",
    "# For that we use the sklearn's Robustscaler() method on pipeline\n",
    "kf = KFold(n_splits=10)\n",
    "lasso = make_pipeline(RobustScaler(), Lasso(alpha =0.0005, random_state=1))\n",
    "lasso_pred = cross_val_score(lasso, X_train, y_train, cv=kf, scoring=\"neg_mean_squared_error\", n_jobs=-1)\n",
    "rmsel = np.sqrt(-lasso_pred)\n",
    "print(\"\\nLasso score: {:.4f} ({:.4f})\\n\".format(rmsel.mean(), rmsel.std()))"
   ]
  },
  {
   "cell_type": "code",
   "execution_count": 193,
   "metadata": {},
   "outputs": [
    {
     "name": "stdout",
     "output_type": "stream",
     "text": [
      "\n",
      "elnet score: 0.1109 (0.0138)\n",
      "\n"
     ]
    }
   ],
   "source": [
    "kf = KFold(n_splits=10)\n",
    "elnet = make_pipeline(RobustScaler(), ElasticNet(alpha=0.0005, l1_ratio=.9, random_state=3))\n",
    "elnet_pred = cross_val_score(elnet, X_train, y_train, cv=kf, scoring=\"neg_mean_squared_error\", n_jobs=-1)\n",
    "rmsee = np.sqrt(-elnet_pred)\n",
    "print(\"\\nelnet score: {:.4f} ({:.4f})\\n\".format(rmsee.mean(), rmsee.std()))"
   ]
  },
  {
   "cell_type": "code",
   "execution_count": 194,
   "metadata": {},
   "outputs": [
    {
     "name": "stdout",
     "output_type": "stream",
     "text": [
      "\n",
      "svr score: 0.3743 (0.0112)\n",
      "\n"
     ]
    }
   ],
   "source": [
    "kf = KFold(n_splits=5)\n",
    "svr = SVR(kernel = 'poly')\n",
    "svr_pred = cross_val_score(svr, X_train, y_train, cv=kf,scoring=\"neg_mean_squared_error\",n_jobs=-1)\n",
    "rmsek = np.sqrt(-svr_pred)\n",
    "print(\"\\nsvr score: {:.4f} ({:.4f})\\n\".format(rmsek.mean(), rmsek.std()))"
   ]
  },
  {
   "cell_type": "markdown",
   "metadata": {},
   "source": [
    "# Apply Grid Search for Best Parameters"
   ]
  },
  {
   "cell_type": "code",
   "execution_count": null,
   "metadata": {},
   "outputs": [],
   "source": [
    "# Gridsearch g_boost\n",
    "param_grid={'n_estimators':[100], \n",
    "            'learning_rate': [0.1],\n",
    "            'max_depth':[6],#4,6],\n",
    "            'min_samples_leaf':[3],\n",
    "            'max_features':[1.0],}"
   ]
  },
  {
   "cell_type": "code",
   "execution_count": 51,
   "metadata": {},
   "outputs": [
    {
     "name": "stdout",
     "output_type": "stream",
     "text": [
      "Fitting 5 folds for each of 1 candidates, totalling 5 fits\n"
     ]
    },
    {
     "name": "stderr",
     "output_type": "stream",
     "text": [
      "[Parallel(n_jobs=-1)]: Using backend LokyBackend with 4 concurrent workers.\n",
      "[Parallel(n_jobs=-1)]: Done   5 out of   5 | elapsed:    5.2s finished\n"
     ]
    },
    {
     "name": "stdout",
     "output_type": "stream",
     "text": [
      "{'learning_rate': 0.1, 'max_depth': 6, 'max_features': 1.0, 'min_samples_leaf': 3, 'n_estimators': 100}\n"
     ]
    }
   ],
   "source": [
    "# Grid Search for Gradiant Boosting Regression\n",
    "kf = KFold(n_splits=5)\n",
    "grid1 = GridSearchCV(g_boost, param_grid, cv=kf, verbose = 1, scoring = 'neg_mean_squared_error', n_jobs = -1)\n",
    "grid1.fit(X_train, y_train)\n",
    "scores1 = grid1.cv_results_['mean_test_score']\n",
    "best_params1 = grid1.best_params_ \n",
    "best_score1 = np.round(np.sqrt(-1 * grid1.best_score_), 5)\n",
    "print(best_params1)"
   ]
  },
  {
   "cell_type": "markdown",
   "metadata": {},
   "source": [
    "# Apply Grid Search for Best Parameters"
   ]
  },
  {
   "cell_type": "code",
   "execution_count": null,
   "metadata": {},
   "outputs": [],
   "source": []
  },
  {
   "cell_type": "code",
   "execution_count": null,
   "metadata": {},
   "outputs": [],
   "source": []
  },
  {
   "cell_type": "code",
   "execution_count": null,
   "metadata": {},
   "outputs": [],
   "source": []
  },
  {
   "cell_type": "code",
   "execution_count": null,
   "metadata": {},
   "outputs": [],
   "source": []
  },
  {
   "cell_type": "markdown",
   "metadata": {},
   "source": [
    "# Run model with final parameters"
   ]
  },
  {
   "cell_type": "code",
   "execution_count": 195,
   "metadata": {},
   "outputs": [
    {
     "data": {
      "text/plain": [
       "0.9065602881849498"
      ]
     },
     "execution_count": 195,
     "metadata": {},
     "output_type": "execute_result"
    }
   ],
   "source": [
    "kf = KFold(n_splits=10)\n",
    "g_boost = GradientBoostingRegressor( n_estimators=100, learning_rate=0.1,\n",
    "                                     max_depth=6, max_features='sqrt',\n",
    "                                     min_samples_leaf=3,random_state =42\n",
    "                                   )\n",
    "g_boost_pred = cross_val_score(g_boost, X_train, y_train, cv=kf, n_jobs=-1)\n",
    "g_boost_pred.mean()"
   ]
  },
  {
   "cell_type": "code",
   "execution_count": 196,
   "metadata": {},
   "outputs": [
    {
     "data": {
      "text/plain": [
       "0.9100854011041927"
      ]
     },
     "execution_count": 196,
     "metadata": {},
     "output_type": "execute_result"
    }
   ],
   "source": [
    "# Initialize our model\n",
    "kf = KFold(n_splits=10)\n",
    "lr = LinearRegression()\n",
    "lr_pred = cross_val_score(ridge, X_train, y_train, cv=kf, n_jobs=-1)\n",
    "lr_pred.mean()"
   ]
  },
  {
   "cell_type": "code",
   "execution_count": 197,
   "metadata": {},
   "outputs": [
    {
     "data": {
      "text/plain": [
       "0.9079149264527615"
      ]
     },
     "execution_count": 197,
     "metadata": {},
     "output_type": "execute_result"
    }
   ],
   "source": [
    "# Initialize our model\n",
    "kf = KFold(n_splits=10)\n",
    "ridge = KernelRidge(alpha=2, kernel='poly', degree=2, coef0=2.5)\n",
    "ridge_pred = cross_val_score(ridge, X_train, y_train, cv=kf, n_jobs=-1)\n",
    "ridge_pred.mean()"
   ]
  },
  {
   "cell_type": "code",
   "execution_count": 198,
   "metadata": {},
   "outputs": [
    {
     "data": {
      "text/plain": [
       "0.9027445162112937"
      ]
     },
     "execution_count": 198,
     "metadata": {},
     "output_type": "execute_result"
    }
   ],
   "source": [
    "# Initialize our model\n",
    "kf = KFold(n_splits=5)\n",
    "lasso = Lasso(alpha =0.0037065129109221566, random_state=1)\n",
    "lasso_pred = cross_val_score(lasso, X_train, y_train, cv=kf, n_jobs=-1)\n",
    "lasso_pred.mean()"
   ]
  },
  {
   "cell_type": "code",
   "execution_count": 199,
   "metadata": {},
   "outputs": [
    {
     "data": {
      "text/plain": [
       "0.9221994020177388"
      ]
     },
     "execution_count": 199,
     "metadata": {},
     "output_type": "execute_result"
    }
   ],
   "source": [
    "kf = KFold(n_splits=10)\n",
    "elnet = make_pipeline(RobustScaler(), ElasticNet(alpha=0.0004,max_iter=1700, l1_ratio=.99, random_state=5))\n",
    "elnet_pred = cross_val_score(elnet, X_train, y_train, cv=kf, n_jobs=-1)\n",
    "elnet_pred.mean()"
   ]
  },
  {
   "cell_type": "markdown",
   "metadata": {},
   "source": [
    "# Final Prediction"
   ]
  },
  {
   "cell_type": "code",
   "execution_count": 139,
   "metadata": {},
   "outputs": [],
   "source": [
    "elnet.fit(X_train, y_train)\n",
    "pred = elnet.predict(X_test)"
   ]
  },
  {
   "cell_type": "code",
   "execution_count": 219,
   "metadata": {},
   "outputs": [],
   "source": [
    "ridge.fit(X_train, y_train)\n",
    "pred = ridge.predict(X_test)"
   ]
  },
  {
   "cell_type": "code",
   "execution_count": 140,
   "metadata": {},
   "outputs": [],
   "source": [
    "preds=np.exp(pred)"
   ]
  },
  {
   "cell_type": "code",
   "execution_count": 141,
   "metadata": {},
   "outputs": [],
   "source": [
    "output=pd.DataFrame({'Id':test2.Id, 'SalePrice':preds})\n",
    "output.to_csv('DSKsubmission.csv', index=False)"
   ]
  },
  {
   "cell_type": "code",
   "execution_count": 142,
   "metadata": {},
   "outputs": [
    {
     "data": {
      "text/html": [
       "<div>\n",
       "<style scoped>\n",
       "    .dataframe tbody tr th:only-of-type {\n",
       "        vertical-align: middle;\n",
       "    }\n",
       "\n",
       "    .dataframe tbody tr th {\n",
       "        vertical-align: top;\n",
       "    }\n",
       "\n",
       "    .dataframe thead th {\n",
       "        text-align: right;\n",
       "    }\n",
       "</style>\n",
       "<table border=\"1\" class=\"dataframe\">\n",
       "  <thead>\n",
       "    <tr style=\"text-align: right;\">\n",
       "      <th></th>\n",
       "      <th>Id</th>\n",
       "      <th>SalePrice</th>\n",
       "    </tr>\n",
       "  </thead>\n",
       "  <tbody>\n",
       "    <tr>\n",
       "      <th>0</th>\n",
       "      <td>1461</td>\n",
       "      <td>122881.807780</td>\n",
       "    </tr>\n",
       "    <tr>\n",
       "      <th>1</th>\n",
       "      <td>1462</td>\n",
       "      <td>154829.487528</td>\n",
       "    </tr>\n",
       "    <tr>\n",
       "      <th>2</th>\n",
       "      <td>1463</td>\n",
       "      <td>182699.735500</td>\n",
       "    </tr>\n",
       "    <tr>\n",
       "      <th>3</th>\n",
       "      <td>1464</td>\n",
       "      <td>203780.603383</td>\n",
       "    </tr>\n",
       "    <tr>\n",
       "      <th>4</th>\n",
       "      <td>1465</td>\n",
       "      <td>200216.687046</td>\n",
       "    </tr>\n",
       "    <tr>\n",
       "      <th>...</th>\n",
       "      <td>...</td>\n",
       "      <td>...</td>\n",
       "    </tr>\n",
       "    <tr>\n",
       "      <th>1454</th>\n",
       "      <td>2915</td>\n",
       "      <td>88834.742868</td>\n",
       "    </tr>\n",
       "    <tr>\n",
       "      <th>1455</th>\n",
       "      <td>2916</td>\n",
       "      <td>86456.120076</td>\n",
       "    </tr>\n",
       "    <tr>\n",
       "      <th>1456</th>\n",
       "      <td>2917</td>\n",
       "      <td>174199.640190</td>\n",
       "    </tr>\n",
       "    <tr>\n",
       "      <th>1457</th>\n",
       "      <td>2918</td>\n",
       "      <td>118370.915021</td>\n",
       "    </tr>\n",
       "    <tr>\n",
       "      <th>1458</th>\n",
       "      <td>2919</td>\n",
       "      <td>236495.662716</td>\n",
       "    </tr>\n",
       "  </tbody>\n",
       "</table>\n",
       "<p>1459 rows × 2 columns</p>\n",
       "</div>"
      ],
      "text/plain": [
       "        Id      SalePrice\n",
       "0     1461  122881.807780\n",
       "1     1462  154829.487528\n",
       "2     1463  182699.735500\n",
       "3     1464  203780.603383\n",
       "4     1465  200216.687046\n",
       "...    ...            ...\n",
       "1454  2915   88834.742868\n",
       "1455  2916   86456.120076\n",
       "1456  2917  174199.640190\n",
       "1457  2918  118370.915021\n",
       "1458  2919  236495.662716\n",
       "\n",
       "[1459 rows x 2 columns]"
      ]
     },
     "execution_count": 142,
     "metadata": {},
     "output_type": "execute_result"
    }
   ],
   "source": [
    "output"
   ]
  },
  {
   "cell_type": "code",
   "execution_count": null,
   "metadata": {},
   "outputs": [],
   "source": []
  }
 ],
 "metadata": {
  "kernelspec": {
   "display_name": "Python 3",
   "language": "python",
   "name": "python3"
  },
  "language_info": {
   "codemirror_mode": {
    "name": "ipython",
    "version": 3
   },
   "file_extension": ".py",
   "mimetype": "text/x-python",
   "name": "python",
   "nbconvert_exporter": "python",
   "pygments_lexer": "ipython3",
   "version": "3.7.6"
  }
 },
 "nbformat": 4,
 "nbformat_minor": 4
}
